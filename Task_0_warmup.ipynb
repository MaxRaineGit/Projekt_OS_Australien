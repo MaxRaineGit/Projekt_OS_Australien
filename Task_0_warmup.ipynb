{
 "cells": [
  {
   "cell_type": "markdown",
   "source": [
    "### Exploratory data analysis on the dataset"
   ],
   "metadata": {
    "collapsed": false
   },
   "id": "1dee27f75a009798"
  },
  {
   "cell_type": "code",
   "execution_count": 8,
   "outputs": [],
   "source": [
    "import pandas as pd"
   ],
   "metadata": {
    "collapsed": false,
    "ExecuteTime": {
     "end_time": "2023-11-17T09:34:47.704708800Z",
     "start_time": "2023-11-17T09:34:47.695844300Z"
    }
   },
   "id": "a65b98d6a7708759"
  },
  {
   "cell_type": "code",
   "execution_count": 9,
   "outputs": [],
   "source": [
    "df_olympic_athletes = pd.read_csv(\"./Data/athlete_events.csv\")"
   ],
   "metadata": {
    "collapsed": false,
    "ExecuteTime": {
     "end_time": "2023-11-17T09:34:56.267175500Z",
     "start_time": "2023-11-17T09:34:55.677044Z"
    }
   },
   "id": "d17ec48592f694a8"
  },
  {
   "cell_type": "code",
   "execution_count": 10,
   "outputs": [
    {
     "name": "stdout",
     "output_type": "stream",
     "text": [
      "<class 'pandas.core.frame.DataFrame'>\n",
      "RangeIndex: 271116 entries, 0 to 271115\n",
      "Data columns (total 15 columns):\n",
      " #   Column  Non-Null Count   Dtype  \n",
      "---  ------  --------------   -----  \n",
      " 0   ID      271116 non-null  int64  \n",
      " 1   Name    271116 non-null  object \n",
      " 2   Sex     271116 non-null  object \n",
      " 3   Age     261642 non-null  float64\n",
      " 4   Height  210945 non-null  float64\n",
      " 5   Weight  208241 non-null  float64\n",
      " 6   Team    271116 non-null  object \n",
      " 7   NOC     271116 non-null  object \n",
      " 8   Games   271116 non-null  object \n",
      " 9   Year    271116 non-null  int64  \n",
      " 10  Season  271116 non-null  object \n",
      " 11  City    271116 non-null  object \n",
      " 12  Sport   271116 non-null  object \n",
      " 13  Event   271116 non-null  object \n",
      " 14  Medal   39783 non-null   object \n",
      "dtypes: float64(3), int64(2), object(10)\n",
      "memory usage: 31.0+ MB\n"
     ]
    }
   ],
   "source": [
    "df_olympic_athletes.info()"
   ],
   "metadata": {
    "collapsed": false,
    "ExecuteTime": {
     "end_time": "2023-11-17T09:35:09.050226800Z",
     "start_time": "2023-11-17T09:35:08.961214900Z"
    }
   },
   "id": "ff0c392dc599f2c9"
  },
  {
   "cell_type": "code",
   "execution_count": 29,
   "outputs": [
    {
     "data": {
      "text/plain": "    ID                      Name Sex   Age  Height  Weight            Team  \\\n0    1                 A Dijiang   M  24.0   180.0    80.0           China   \n1    2                  A Lamusi   M  23.0   170.0    60.0           China   \n2    3       Gunnar Nielsen Aaby   M  24.0     NaN     NaN         Denmark   \n3    4      Edgar Lindenau Aabye   M  34.0     NaN     NaN  Denmark/Sweden   \n4    5  Christine Jacoba Aaftink   F  21.0   185.0    82.0     Netherlands   \n5    5  Christine Jacoba Aaftink   F  21.0   185.0    82.0     Netherlands   \n6    5  Christine Jacoba Aaftink   F  25.0   185.0    82.0     Netherlands   \n7    5  Christine Jacoba Aaftink   F  25.0   185.0    82.0     Netherlands   \n8    5  Christine Jacoba Aaftink   F  27.0   185.0    82.0     Netherlands   \n9    5  Christine Jacoba Aaftink   F  27.0   185.0    82.0     Netherlands   \n10   6           Per Knut Aaland   M  31.0   188.0    75.0   United States   \n11   6           Per Knut Aaland   M  31.0   188.0    75.0   United States   \n12   6           Per Knut Aaland   M  31.0   188.0    75.0   United States   \n13   6           Per Knut Aaland   M  31.0   188.0    75.0   United States   \n14   6           Per Knut Aaland   M  33.0   188.0    75.0   United States   \n15   6           Per Knut Aaland   M  33.0   188.0    75.0   United States   \n16   6           Per Knut Aaland   M  33.0   188.0    75.0   United States   \n17   6           Per Knut Aaland   M  33.0   188.0    75.0   United States   \n18   7              John Aalberg   M  31.0   183.0    72.0   United States   \n19   7              John Aalberg   M  31.0   183.0    72.0   United States   \n\n    NOC        Games  Year  Season         City                 Sport  \\\n0   CHN  1992 Summer  1992  Summer    Barcelona            Basketball   \n1   CHN  2012 Summer  2012  Summer       London                  Judo   \n2   DEN  1920 Summer  1920  Summer    Antwerpen              Football   \n3   DEN  1900 Summer  1900  Summer        Paris            Tug-Of-War   \n4   NED  1988 Winter  1988  Winter      Calgary         Speed Skating   \n5   NED  1988 Winter  1988  Winter      Calgary         Speed Skating   \n6   NED  1992 Winter  1992  Winter  Albertville         Speed Skating   \n7   NED  1992 Winter  1992  Winter  Albertville         Speed Skating   \n8   NED  1994 Winter  1994  Winter  Lillehammer         Speed Skating   \n9   NED  1994 Winter  1994  Winter  Lillehammer         Speed Skating   \n10  USA  1992 Winter  1992  Winter  Albertville  Cross Country Skiing   \n11  USA  1992 Winter  1992  Winter  Albertville  Cross Country Skiing   \n12  USA  1992 Winter  1992  Winter  Albertville  Cross Country Skiing   \n13  USA  1992 Winter  1992  Winter  Albertville  Cross Country Skiing   \n14  USA  1994 Winter  1994  Winter  Lillehammer  Cross Country Skiing   \n15  USA  1994 Winter  1994  Winter  Lillehammer  Cross Country Skiing   \n16  USA  1994 Winter  1994  Winter  Lillehammer  Cross Country Skiing   \n17  USA  1994 Winter  1994  Winter  Lillehammer  Cross Country Skiing   \n18  USA  1992 Winter  1992  Winter  Albertville  Cross Country Skiing   \n19  USA  1992 Winter  1992  Winter  Albertville  Cross Country Skiing   \n\n                                                Event Medal  \n0                         Basketball Men's Basketball   NaN  \n1                        Judo Men's Extra-Lightweight   NaN  \n2                             Football Men's Football   NaN  \n3                         Tug-Of-War Men's Tug-Of-War  Gold  \n4                    Speed Skating Women's 500 metres   NaN  \n5                  Speed Skating Women's 1,000 metres   NaN  \n6                    Speed Skating Women's 500 metres   NaN  \n7                  Speed Skating Women's 1,000 metres   NaN  \n8                    Speed Skating Women's 500 metres   NaN  \n9                  Speed Skating Women's 1,000 metres   NaN  \n10           Cross Country Skiing Men's 10 kilometres   NaN  \n11           Cross Country Skiing Men's 50 kilometres   NaN  \n12  Cross Country Skiing Men's 10/15 kilometres Pu...   NaN  \n13  Cross Country Skiing Men's 4 x 10 kilometres R...   NaN  \n14           Cross Country Skiing Men's 10 kilometres   NaN  \n15           Cross Country Skiing Men's 30 kilometres   NaN  \n16  Cross Country Skiing Men's 10/15 kilometres Pu...   NaN  \n17  Cross Country Skiing Men's 4 x 10 kilometres R...   NaN  \n18           Cross Country Skiing Men's 10 kilometres   NaN  \n19           Cross Country Skiing Men's 50 kilometres   NaN  ",
      "text/html": "<div>\n<style scoped>\n    .dataframe tbody tr th:only-of-type {\n        vertical-align: middle;\n    }\n\n    .dataframe tbody tr th {\n        vertical-align: top;\n    }\n\n    .dataframe thead th {\n        text-align: right;\n    }\n</style>\n<table border=\"1\" class=\"dataframe\">\n  <thead>\n    <tr style=\"text-align: right;\">\n      <th></th>\n      <th>ID</th>\n      <th>Name</th>\n      <th>Sex</th>\n      <th>Age</th>\n      <th>Height</th>\n      <th>Weight</th>\n      <th>Team</th>\n      <th>NOC</th>\n      <th>Games</th>\n      <th>Year</th>\n      <th>Season</th>\n      <th>City</th>\n      <th>Sport</th>\n      <th>Event</th>\n      <th>Medal</th>\n    </tr>\n  </thead>\n  <tbody>\n    <tr>\n      <th>0</th>\n      <td>1</td>\n      <td>A Dijiang</td>\n      <td>M</td>\n      <td>24.0</td>\n      <td>180.0</td>\n      <td>80.0</td>\n      <td>China</td>\n      <td>CHN</td>\n      <td>1992 Summer</td>\n      <td>1992</td>\n      <td>Summer</td>\n      <td>Barcelona</td>\n      <td>Basketball</td>\n      <td>Basketball Men's Basketball</td>\n      <td>NaN</td>\n    </tr>\n    <tr>\n      <th>1</th>\n      <td>2</td>\n      <td>A Lamusi</td>\n      <td>M</td>\n      <td>23.0</td>\n      <td>170.0</td>\n      <td>60.0</td>\n      <td>China</td>\n      <td>CHN</td>\n      <td>2012 Summer</td>\n      <td>2012</td>\n      <td>Summer</td>\n      <td>London</td>\n      <td>Judo</td>\n      <td>Judo Men's Extra-Lightweight</td>\n      <td>NaN</td>\n    </tr>\n    <tr>\n      <th>2</th>\n      <td>3</td>\n      <td>Gunnar Nielsen Aaby</td>\n      <td>M</td>\n      <td>24.0</td>\n      <td>NaN</td>\n      <td>NaN</td>\n      <td>Denmark</td>\n      <td>DEN</td>\n      <td>1920 Summer</td>\n      <td>1920</td>\n      <td>Summer</td>\n      <td>Antwerpen</td>\n      <td>Football</td>\n      <td>Football Men's Football</td>\n      <td>NaN</td>\n    </tr>\n    <tr>\n      <th>3</th>\n      <td>4</td>\n      <td>Edgar Lindenau Aabye</td>\n      <td>M</td>\n      <td>34.0</td>\n      <td>NaN</td>\n      <td>NaN</td>\n      <td>Denmark/Sweden</td>\n      <td>DEN</td>\n      <td>1900 Summer</td>\n      <td>1900</td>\n      <td>Summer</td>\n      <td>Paris</td>\n      <td>Tug-Of-War</td>\n      <td>Tug-Of-War Men's Tug-Of-War</td>\n      <td>Gold</td>\n    </tr>\n    <tr>\n      <th>4</th>\n      <td>5</td>\n      <td>Christine Jacoba Aaftink</td>\n      <td>F</td>\n      <td>21.0</td>\n      <td>185.0</td>\n      <td>82.0</td>\n      <td>Netherlands</td>\n      <td>NED</td>\n      <td>1988 Winter</td>\n      <td>1988</td>\n      <td>Winter</td>\n      <td>Calgary</td>\n      <td>Speed Skating</td>\n      <td>Speed Skating Women's 500 metres</td>\n      <td>NaN</td>\n    </tr>\n    <tr>\n      <th>5</th>\n      <td>5</td>\n      <td>Christine Jacoba Aaftink</td>\n      <td>F</td>\n      <td>21.0</td>\n      <td>185.0</td>\n      <td>82.0</td>\n      <td>Netherlands</td>\n      <td>NED</td>\n      <td>1988 Winter</td>\n      <td>1988</td>\n      <td>Winter</td>\n      <td>Calgary</td>\n      <td>Speed Skating</td>\n      <td>Speed Skating Women's 1,000 metres</td>\n      <td>NaN</td>\n    </tr>\n    <tr>\n      <th>6</th>\n      <td>5</td>\n      <td>Christine Jacoba Aaftink</td>\n      <td>F</td>\n      <td>25.0</td>\n      <td>185.0</td>\n      <td>82.0</td>\n      <td>Netherlands</td>\n      <td>NED</td>\n      <td>1992 Winter</td>\n      <td>1992</td>\n      <td>Winter</td>\n      <td>Albertville</td>\n      <td>Speed Skating</td>\n      <td>Speed Skating Women's 500 metres</td>\n      <td>NaN</td>\n    </tr>\n    <tr>\n      <th>7</th>\n      <td>5</td>\n      <td>Christine Jacoba Aaftink</td>\n      <td>F</td>\n      <td>25.0</td>\n      <td>185.0</td>\n      <td>82.0</td>\n      <td>Netherlands</td>\n      <td>NED</td>\n      <td>1992 Winter</td>\n      <td>1992</td>\n      <td>Winter</td>\n      <td>Albertville</td>\n      <td>Speed Skating</td>\n      <td>Speed Skating Women's 1,000 metres</td>\n      <td>NaN</td>\n    </tr>\n    <tr>\n      <th>8</th>\n      <td>5</td>\n      <td>Christine Jacoba Aaftink</td>\n      <td>F</td>\n      <td>27.0</td>\n      <td>185.0</td>\n      <td>82.0</td>\n      <td>Netherlands</td>\n      <td>NED</td>\n      <td>1994 Winter</td>\n      <td>1994</td>\n      <td>Winter</td>\n      <td>Lillehammer</td>\n      <td>Speed Skating</td>\n      <td>Speed Skating Women's 500 metres</td>\n      <td>NaN</td>\n    </tr>\n    <tr>\n      <th>9</th>\n      <td>5</td>\n      <td>Christine Jacoba Aaftink</td>\n      <td>F</td>\n      <td>27.0</td>\n      <td>185.0</td>\n      <td>82.0</td>\n      <td>Netherlands</td>\n      <td>NED</td>\n      <td>1994 Winter</td>\n      <td>1994</td>\n      <td>Winter</td>\n      <td>Lillehammer</td>\n      <td>Speed Skating</td>\n      <td>Speed Skating Women's 1,000 metres</td>\n      <td>NaN</td>\n    </tr>\n    <tr>\n      <th>10</th>\n      <td>6</td>\n      <td>Per Knut Aaland</td>\n      <td>M</td>\n      <td>31.0</td>\n      <td>188.0</td>\n      <td>75.0</td>\n      <td>United States</td>\n      <td>USA</td>\n      <td>1992 Winter</td>\n      <td>1992</td>\n      <td>Winter</td>\n      <td>Albertville</td>\n      <td>Cross Country Skiing</td>\n      <td>Cross Country Skiing Men's 10 kilometres</td>\n      <td>NaN</td>\n    </tr>\n    <tr>\n      <th>11</th>\n      <td>6</td>\n      <td>Per Knut Aaland</td>\n      <td>M</td>\n      <td>31.0</td>\n      <td>188.0</td>\n      <td>75.0</td>\n      <td>United States</td>\n      <td>USA</td>\n      <td>1992 Winter</td>\n      <td>1992</td>\n      <td>Winter</td>\n      <td>Albertville</td>\n      <td>Cross Country Skiing</td>\n      <td>Cross Country Skiing Men's 50 kilometres</td>\n      <td>NaN</td>\n    </tr>\n    <tr>\n      <th>12</th>\n      <td>6</td>\n      <td>Per Knut Aaland</td>\n      <td>M</td>\n      <td>31.0</td>\n      <td>188.0</td>\n      <td>75.0</td>\n      <td>United States</td>\n      <td>USA</td>\n      <td>1992 Winter</td>\n      <td>1992</td>\n      <td>Winter</td>\n      <td>Albertville</td>\n      <td>Cross Country Skiing</td>\n      <td>Cross Country Skiing Men's 10/15 kilometres Pu...</td>\n      <td>NaN</td>\n    </tr>\n    <tr>\n      <th>13</th>\n      <td>6</td>\n      <td>Per Knut Aaland</td>\n      <td>M</td>\n      <td>31.0</td>\n      <td>188.0</td>\n      <td>75.0</td>\n      <td>United States</td>\n      <td>USA</td>\n      <td>1992 Winter</td>\n      <td>1992</td>\n      <td>Winter</td>\n      <td>Albertville</td>\n      <td>Cross Country Skiing</td>\n      <td>Cross Country Skiing Men's 4 x 10 kilometres R...</td>\n      <td>NaN</td>\n    </tr>\n    <tr>\n      <th>14</th>\n      <td>6</td>\n      <td>Per Knut Aaland</td>\n      <td>M</td>\n      <td>33.0</td>\n      <td>188.0</td>\n      <td>75.0</td>\n      <td>United States</td>\n      <td>USA</td>\n      <td>1994 Winter</td>\n      <td>1994</td>\n      <td>Winter</td>\n      <td>Lillehammer</td>\n      <td>Cross Country Skiing</td>\n      <td>Cross Country Skiing Men's 10 kilometres</td>\n      <td>NaN</td>\n    </tr>\n    <tr>\n      <th>15</th>\n      <td>6</td>\n      <td>Per Knut Aaland</td>\n      <td>M</td>\n      <td>33.0</td>\n      <td>188.0</td>\n      <td>75.0</td>\n      <td>United States</td>\n      <td>USA</td>\n      <td>1994 Winter</td>\n      <td>1994</td>\n      <td>Winter</td>\n      <td>Lillehammer</td>\n      <td>Cross Country Skiing</td>\n      <td>Cross Country Skiing Men's 30 kilometres</td>\n      <td>NaN</td>\n    </tr>\n    <tr>\n      <th>16</th>\n      <td>6</td>\n      <td>Per Knut Aaland</td>\n      <td>M</td>\n      <td>33.0</td>\n      <td>188.0</td>\n      <td>75.0</td>\n      <td>United States</td>\n      <td>USA</td>\n      <td>1994 Winter</td>\n      <td>1994</td>\n      <td>Winter</td>\n      <td>Lillehammer</td>\n      <td>Cross Country Skiing</td>\n      <td>Cross Country Skiing Men's 10/15 kilometres Pu...</td>\n      <td>NaN</td>\n    </tr>\n    <tr>\n      <th>17</th>\n      <td>6</td>\n      <td>Per Knut Aaland</td>\n      <td>M</td>\n      <td>33.0</td>\n      <td>188.0</td>\n      <td>75.0</td>\n      <td>United States</td>\n      <td>USA</td>\n      <td>1994 Winter</td>\n      <td>1994</td>\n      <td>Winter</td>\n      <td>Lillehammer</td>\n      <td>Cross Country Skiing</td>\n      <td>Cross Country Skiing Men's 4 x 10 kilometres R...</td>\n      <td>NaN</td>\n    </tr>\n    <tr>\n      <th>18</th>\n      <td>7</td>\n      <td>John Aalberg</td>\n      <td>M</td>\n      <td>31.0</td>\n      <td>183.0</td>\n      <td>72.0</td>\n      <td>United States</td>\n      <td>USA</td>\n      <td>1992 Winter</td>\n      <td>1992</td>\n      <td>Winter</td>\n      <td>Albertville</td>\n      <td>Cross Country Skiing</td>\n      <td>Cross Country Skiing Men's 10 kilometres</td>\n      <td>NaN</td>\n    </tr>\n    <tr>\n      <th>19</th>\n      <td>7</td>\n      <td>John Aalberg</td>\n      <td>M</td>\n      <td>31.0</td>\n      <td>183.0</td>\n      <td>72.0</td>\n      <td>United States</td>\n      <td>USA</td>\n      <td>1992 Winter</td>\n      <td>1992</td>\n      <td>Winter</td>\n      <td>Albertville</td>\n      <td>Cross Country Skiing</td>\n      <td>Cross Country Skiing Men's 50 kilometres</td>\n      <td>NaN</td>\n    </tr>\n  </tbody>\n</table>\n</div>"
     },
     "execution_count": 29,
     "metadata": {},
     "output_type": "execute_result"
    }
   ],
   "source": [
    "df_olympic_athletes.head(20)"
   ],
   "metadata": {
    "collapsed": false,
    "ExecuteTime": {
     "end_time": "2023-11-17T10:15:58.677560400Z",
     "start_time": "2023-11-17T10:15:58.664430800Z"
    }
   },
   "id": "d82bd282b2fee0b1"
  },
  {
   "cell_type": "markdown",
   "source": [
    "#### Task E\n",
    "Age statistics."
   ],
   "metadata": {
    "collapsed": false
   },
   "id": "ceb5ce75f3195ef9"
  },
  {
   "cell_type": "code",
   "execution_count": 14,
   "outputs": [],
   "source": [
    "athletes_sex_age_medal = df_olympic_athletes[[\"Sex\", \"Age\", \"Medal\"]]"
   ],
   "metadata": {
    "collapsed": false,
    "ExecuteTime": {
     "end_time": "2023-11-17T09:50:57.797219700Z",
     "start_time": "2023-11-17T09:50:57.776228300Z"
    }
   },
   "id": "db608401958afcf5"
  },
  {
   "cell_type": "code",
   "execution_count": 18,
   "outputs": [
    {
     "data": {
      "text/plain": "       Sex   Age   Medal\n77432    M  26.0     NaN\n35142    M  30.0     NaN\n83459    F  30.0     NaN\n67466    F  23.0     NaN\n242753   M  19.0     NaN\n195340   M  28.0  Bronze\n187637   M  22.0     NaN\n47406    M  24.0     NaN\n168454   F  20.0     NaN\n105398   F  16.0     NaN",
      "text/html": "<div>\n<style scoped>\n    .dataframe tbody tr th:only-of-type {\n        vertical-align: middle;\n    }\n\n    .dataframe tbody tr th {\n        vertical-align: top;\n    }\n\n    .dataframe thead th {\n        text-align: right;\n    }\n</style>\n<table border=\"1\" class=\"dataframe\">\n  <thead>\n    <tr style=\"text-align: right;\">\n      <th></th>\n      <th>Sex</th>\n      <th>Age</th>\n      <th>Medal</th>\n    </tr>\n  </thead>\n  <tbody>\n    <tr>\n      <th>77432</th>\n      <td>M</td>\n      <td>26.0</td>\n      <td>NaN</td>\n    </tr>\n    <tr>\n      <th>35142</th>\n      <td>M</td>\n      <td>30.0</td>\n      <td>NaN</td>\n    </tr>\n    <tr>\n      <th>83459</th>\n      <td>F</td>\n      <td>30.0</td>\n      <td>NaN</td>\n    </tr>\n    <tr>\n      <th>67466</th>\n      <td>F</td>\n      <td>23.0</td>\n      <td>NaN</td>\n    </tr>\n    <tr>\n      <th>242753</th>\n      <td>M</td>\n      <td>19.0</td>\n      <td>NaN</td>\n    </tr>\n    <tr>\n      <th>195340</th>\n      <td>M</td>\n      <td>28.0</td>\n      <td>Bronze</td>\n    </tr>\n    <tr>\n      <th>187637</th>\n      <td>M</td>\n      <td>22.0</td>\n      <td>NaN</td>\n    </tr>\n    <tr>\n      <th>47406</th>\n      <td>M</td>\n      <td>24.0</td>\n      <td>NaN</td>\n    </tr>\n    <tr>\n      <th>168454</th>\n      <td>F</td>\n      <td>20.0</td>\n      <td>NaN</td>\n    </tr>\n    <tr>\n      <th>105398</th>\n      <td>F</td>\n      <td>16.0</td>\n      <td>NaN</td>\n    </tr>\n  </tbody>\n</table>\n</div>"
     },
     "execution_count": 18,
     "metadata": {},
     "output_type": "execute_result"
    }
   ],
   "source": [
    "athletes_sex_age_medal.sample(10)"
   ],
   "metadata": {
    "collapsed": false,
    "ExecuteTime": {
     "end_time": "2023-11-17T09:55:05.213098900Z",
     "start_time": "2023-11-17T09:55:05.190968900Z"
    }
   },
   "id": "b66f9f09a7860d1d"
  },
  {
   "cell_type": "code",
   "execution_count": 21,
   "outputs": [
    {
     "name": "stdout",
     "output_type": "stream",
     "text": [
      "<class 'pandas.core.frame.DataFrame'>\n",
      "RangeIndex: 271116 entries, 0 to 271115\n",
      "Data columns (total 3 columns):\n",
      " #   Column  Non-Null Count   Dtype  \n",
      "---  ------  --------------   -----  \n",
      " 0   Sex     271116 non-null  object \n",
      " 1   Age     261642 non-null  float64\n",
      " 2   Medal   39783 non-null   object \n",
      "dtypes: float64(1), object(2)\n",
      "memory usage: 6.2+ MB\n"
     ]
    }
   ],
   "source": [
    "athletes_sex_age_medal.info()"
   ],
   "metadata": {
    "collapsed": false,
    "ExecuteTime": {
     "end_time": "2023-11-17T10:10:01.181932400Z",
     "start_time": "2023-11-17T10:10:01.165663700Z"
    }
   },
   "id": "5eff6e92bea52f73"
  },
  {
   "cell_type": "code",
   "execution_count": 22,
   "outputs": [
    {
     "data": {
      "text/plain": "Sex           0\nAge        9474\nMedal    231333\ndtype: int64"
     },
     "execution_count": 22,
     "metadata": {},
     "output_type": "execute_result"
    }
   ],
   "source": [
    "athletes_sex_age_medal.isna().sum()"
   ],
   "metadata": {
    "collapsed": false,
    "ExecuteTime": {
     "end_time": "2023-11-17T10:10:11.982415Z",
     "start_time": "2023-11-17T10:10:11.950076300Z"
    }
   },
   "id": "b76740a63ac30521"
  },
  {
   "cell_type": "code",
   "execution_count": 25,
   "outputs": [
    {
     "data": {
      "text/plain": "3.49444518213606"
     },
     "execution_count": 25,
     "metadata": {},
     "output_type": "execute_result"
    }
   ],
   "source": [
    "rows_without_age = athletes_sex_age_medal[\"Age\"].isnull().sum()\n",
    "percentage_without_age = (rows_without_age / len(athletes_sex_age_medal)) * 100\n",
    "percentage_without_age"
   ],
   "metadata": {
    "collapsed": false,
    "ExecuteTime": {
     "end_time": "2023-11-17T10:12:31.248889600Z",
     "start_time": "2023-11-17T10:12:31.226113600Z"
    }
   },
   "id": "3f57324f08089df8"
  },
  {
   "cell_type": "markdown",
   "source": [
    "After a quick Look through the uncleaned data, it seems that about 3.5% of the athletes don't have data about their age,\n",
    "and should be omitted when calculating age statistics. I also want to change the NaN in Medal to \"No Medal\""
   ],
   "metadata": {
    "collapsed": false
   },
   "id": "54fcc275cd0a83c1"
  },
  {
   "cell_type": "code",
   "execution_count": 34,
   "outputs": [],
   "source": [
    "athletes_sex_age_medal_cleaned = athletes_sex_age_medal.dropna(subset=[\"Age\"]).fillna({\"Medal\": \"No medal\"})"
   ],
   "metadata": {
    "collapsed": false,
    "ExecuteTime": {
     "end_time": "2023-11-17T10:34:40.563339500Z",
     "start_time": "2023-11-17T10:34:40.519602100Z"
    }
   },
   "id": "a50cf9660d427d07"
  },
  {
   "cell_type": "code",
   "execution_count": 35,
   "outputs": [
    {
     "data": {
      "text/plain": "Sex      0\nAge      0\nMedal    0\ndtype: int64"
     },
     "execution_count": 35,
     "metadata": {},
     "output_type": "execute_result"
    }
   ],
   "source": [
    "athletes_sex_age_medal_cleaned.isna().sum()"
   ],
   "metadata": {
    "collapsed": false,
    "ExecuteTime": {
     "end_time": "2023-11-17T10:34:41.147024700Z",
     "start_time": "2023-11-17T10:34:41.117848800Z"
    }
   },
   "id": "f08dbe282429cbfd"
  },
  {
   "cell_type": "code",
   "execution_count": 36,
   "outputs": [
    {
     "data": {
      "text/plain": "       Sex   Age     Medal\n138830   M  23.0  No medal\n57525    M  24.0  No medal\n216510   F  20.0  No medal\n6812     F  23.0      Gold\n96483    F  26.0    Silver\n23002    M  19.0  No medal\n180552   F  25.0    Silver\n256909   M  23.0  No medal\n187224   M  26.0    Bronze\n41912    M  28.0  No medal",
      "text/html": "<div>\n<style scoped>\n    .dataframe tbody tr th:only-of-type {\n        vertical-align: middle;\n    }\n\n    .dataframe tbody tr th {\n        vertical-align: top;\n    }\n\n    .dataframe thead th {\n        text-align: right;\n    }\n</style>\n<table border=\"1\" class=\"dataframe\">\n  <thead>\n    <tr style=\"text-align: right;\">\n      <th></th>\n      <th>Sex</th>\n      <th>Age</th>\n      <th>Medal</th>\n    </tr>\n  </thead>\n  <tbody>\n    <tr>\n      <th>138830</th>\n      <td>M</td>\n      <td>23.0</td>\n      <td>No medal</td>\n    </tr>\n    <tr>\n      <th>57525</th>\n      <td>M</td>\n      <td>24.0</td>\n      <td>No medal</td>\n    </tr>\n    <tr>\n      <th>216510</th>\n      <td>F</td>\n      <td>20.0</td>\n      <td>No medal</td>\n    </tr>\n    <tr>\n      <th>6812</th>\n      <td>F</td>\n      <td>23.0</td>\n      <td>Gold</td>\n    </tr>\n    <tr>\n      <th>96483</th>\n      <td>F</td>\n      <td>26.0</td>\n      <td>Silver</td>\n    </tr>\n    <tr>\n      <th>23002</th>\n      <td>M</td>\n      <td>19.0</td>\n      <td>No medal</td>\n    </tr>\n    <tr>\n      <th>180552</th>\n      <td>F</td>\n      <td>25.0</td>\n      <td>Silver</td>\n    </tr>\n    <tr>\n      <th>256909</th>\n      <td>M</td>\n      <td>23.0</td>\n      <td>No medal</td>\n    </tr>\n    <tr>\n      <th>187224</th>\n      <td>M</td>\n      <td>26.0</td>\n      <td>Bronze</td>\n    </tr>\n    <tr>\n      <th>41912</th>\n      <td>M</td>\n      <td>28.0</td>\n      <td>No medal</td>\n    </tr>\n  </tbody>\n</table>\n</div>"
     },
     "execution_count": 36,
     "metadata": {},
     "output_type": "execute_result"
    }
   ],
   "source": [
    "athletes_sex_age_medal_cleaned.sample(10)"
   ],
   "metadata": {
    "collapsed": false,
    "ExecuteTime": {
     "end_time": "2023-11-17T10:35:02.723897400Z",
     "start_time": "2023-11-17T10:35:02.688376700Z"
    }
   },
   "id": "4882e0db6223e103"
  },
  {
   "cell_type": "code",
   "execution_count": null,
   "outputs": [],
   "source": [],
   "metadata": {
    "collapsed": false
   },
   "id": "4fb18fd0325e8147"
  }
 ],
 "metadata": {
  "kernelspec": {
   "display_name": "Python 3",
   "language": "python",
   "name": "python3"
  },
  "language_info": {
   "codemirror_mode": {
    "name": "ipython",
    "version": 2
   },
   "file_extension": ".py",
   "mimetype": "text/x-python",
   "name": "python",
   "nbconvert_exporter": "python",
   "pygments_lexer": "ipython2",
   "version": "2.7.6"
  }
 },
 "nbformat": 4,
 "nbformat_minor": 5
}
