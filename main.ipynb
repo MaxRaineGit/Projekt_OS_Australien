{
 "cells": [
  {
   "cell_type": "code",
   "execution_count": null,
   "metadata": {
    "ExecuteTime": {
     "end_time": "2023-11-20T08:26:29.538602Z",
     "start_time": "2023-11-20T08:26:27.938593300Z"
    }
   },
   "outputs": [],
   "source": [
    "import pandas as pd\n",
    "import numpy as np\n",
    "import plotly_express as px\n",
    "import hashlib\n",
    "\n",
    "# Load datasets\n",
    "data_athletes = pd.read_csv('Data/athlete_events.csv')\n",
    "data_noc = pd.read_csv('Data/noc_regions.csv')"
   ]
  },
  {
   "cell_type": "markdown",
   "metadata": {},
   "source": [
    "### Which countries are included in the dataset?"
   ]
  },
  {
   "cell_type": "code",
   "execution_count": null,
   "metadata": {},
   "outputs": [],
   "source": [
    "# Extract unique region names\n",
    "unique_regions = data_noc['region'].unique()\n",
    "exclusions_region = ['Individual Olympic Athletes', 'NA'] # Exclusion list for regions\n",
    "\n",
    "# TUV was described as 'NA' in the region column but had a name in the notes column\n",
    "if 'Tuvalu' not in unique_regions:\n",
    "    # Manually add 'Tuvalu' to the list of unique regions\n",
    "    unique_regions = list(unique_regions) + ['Tuvalu']\n",
    "\n",
    "# Print the list of unique region names\n",
    "for region in unique_regions:\n",
    "    if region not in exclusions_region:\n",
    "        print(region)"
   ]
  },
  {
   "cell_type": "markdown",
   "metadata": {},
   "source": [
    "### How many countries are included in the dataset?"
   ]
  },
  {
   "cell_type": "code",
   "execution_count": null,
   "metadata": {},
   "outputs": [],
   "source": [
    "# Filter out excluded regions and count\n",
    "filtered_regions = [\n",
    "    region for region in unique_regions\n",
    "        if region not in exclusions_region]\n",
    "\n",
    "number_of_unique_regions = len(filtered_regions)\n",
    "\n",
    "print(f\"Total number of unique regions: {number_of_unique_regions}\")"
   ]
  },
  {
   "cell_type": "markdown",
   "metadata": {},
   "source": [
    "### Which sports are in the event?"
   ]
  },
  {
   "cell_type": "code",
   "execution_count": null,
   "metadata": {},
   "outputs": [],
   "source": [
    "sports_list = data_athletes['Sport'].unique()\n",
    "\n",
    "print(\"Types of sports:\")\n",
    "for sport in sports_list:\n",
    "    print(sport)"
   ]
  },
  {
   "cell_type": "markdown",
   "metadata": {},
   "source": [
    "### What types of medals are won?"
   ]
  },
  {
   "cell_type": "code",
   "execution_count": null,
   "metadata": {},
   "outputs": [],
   "source": [
    "medal_types = data_athletes['Medal'].unique()\n",
    "\n",
    "# Removes the rows where no medals has been won\n",
    "medal_types_filtered = np.delete(medal_types, 0)\n",
    "\n",
    "print(\"Types of medals:\")\n",
    "for medal in medal_types_filtered:\n",
    "    print(medal)"
   ]
  },
  {
   "cell_type": "markdown",
   "metadata": {},
   "source": [
    "### Sex distribiution chart"
   ]
  },
  {
   "cell_type": "code",
   "execution_count": null,
   "metadata": {},
   "outputs": [],
   "source": [
    "# Remove duplicate entries based on 'ID' to ensure each athlete is counted only once.\n",
    "data_unique_athletes = data_athletes.drop_duplicates(subset=['ID'])\n",
    "\n",
    "# Count the number of male and female participants\n",
    "sex_distribution = data_unique_athletes['Sex'].value_counts()\n",
    "\n",
    "# Creating a pie chart\n",
    "sex_distribution_piechart = px.pie(sex_distribution, \n",
    "            # The lambda function in the names argument is used to map \"F\" to \"Female\" and \"M\" to \"Male\".\n",
    "             names=sex_distribution.index.map(lambda x: 'Female' if x == 'F' else 'Male'),\n",
    "             values=sex_distribution.values,\n",
    "             title='Sex distribution of all athletes',\n",
    "             labels={'names' : 'Sex', \"values\" : 'Amount'})\n",
    "\n",
    "sex_distribution_piechart.write_html((\"../Projekt_OS_Australien/Visualisering/Sex_distribution_piechart.html\"))"
   ]
  },
  {
   "cell_type": "markdown",
   "metadata": {},
   "source": [
    "### Top 10 countries based on total medals won"
   ]
  },
  {
   "cell_type": "code",
   "execution_count": null,
   "metadata": {},
   "outputs": [],
   "source": [
    "# Creates a new dataframe grouping that only shows the columns \"Team\" and \"Total Medals\"\n",
    "# Value_counts Counts the values for each row\n",
    "# Unstack transforms the groupby into a new dataframe\n",
    "# fillna changes the missing data to having a value of 0 so it wont effect the counting\n",
    "# Sum counts everthing in the first axis which is \"Total Medals\" after we used reset_index to both reset the index and change the name of the second column.\n",
    "country_medals = data_athletes.groupby(\"NOC\")[\"Medal\"].value_counts().unstack().fillna(0).sum(axis=1).reset_index(name=\"Total Medals\")\n",
    "\n",
    "top_ten_countries = country_medals.sort_values(by=\"Total Medals\", ascending=False).head(10)\n",
    "\n",
    "top_ten_countries_diagram = px.bar(\n",
    "    top_ten_countries,\n",
    "    x=\"NOC\", y=\"Total Medals\",\n",
    "    title=\"Top 10 countries based on total medals won:\",\n",
    "    color=\"NOC\",\n",
    "    labels={\"NOC\" : \"Countries\", \"Total Medals\" : \"Medals\"}\n",
    ")\n",
    "\n",
    "top_ten_countries_diagram.write_html(\"../Projekt_OS_Australien/Visualisering/Top_ten_countries_medals.html\")"
   ]
  },
  {
   "cell_type": "markdown",
   "metadata": {
    "collapsed": false
   },
   "source": [
    "### Age Statistics"
   ]
  },
  {
   "cell_type": "code",
   "execution_count": null,
   "metadata": {
    "ExecuteTime": {
     "end_time": "2023-11-20T08:52:27.112742200Z",
     "start_time": "2023-11-20T08:52:27.058804300Z"
    },
    "collapsed": false
   },
   "outputs": [],
   "source": [
    "# Create dataframe grouping with athletes age, sex and medal\n",
    "# Dropping rows without age data and filling NaN in Medals with \"No medal\"\n",
    "# Showing age statistics overall and by sex\n",
    "athlete_age_medal = data_athletes[[\"Sex\", \"Age\", \"Medal\"]].dropna(subset=[\"Age\"]).fillna({\"Medal\": \"No medal\"})\n",
    "\n",
    "age_stats = athlete_age_medal[\"Age\"]\n",
    "age_stats_by_sex = athlete_age_medal.groupby(\"Sex\")[\"Age\"]"
   ]
  },
  {
   "cell_type": "code",
   "execution_count": null,
   "metadata": {
    "ExecuteTime": {
     "end_time": "2023-11-20T08:52:27.919724800Z",
     "start_time": "2023-11-20T08:52:27.877697800Z"
    },
    "collapsed": false
   },
   "outputs": [],
   "source": [
    "age_stats.describe()"
   ]
  },
  {
   "cell_type": "code",
   "execution_count": null,
   "metadata": {
    "ExecuteTime": {
     "end_time": "2023-11-20T08:52:28.971366100Z",
     "start_time": "2023-11-20T08:52:28.937172300Z"
    },
    "collapsed": false
   },
   "outputs": [],
   "source": [
    "age_stats_by_sex.describe()"
   ]
  },
  {
   "cell_type": "markdown",
   "metadata": {
    "collapsed": false
   },
   "source": [
    "### Medals by age group"
   ]
  },
  {
   "cell_type": "code",
   "execution_count": null,
   "metadata": {
    "ExecuteTime": {
     "end_time": "2023-11-20T09:23:16.172045900Z",
     "start_time": "2023-11-20T09:23:16.109943800Z"
    },
    "collapsed": false
   },
   "outputs": [],
   "source": [
    "# Defining age bins\n",
    "# Creating new column \"Age Group\" based on the age bins\n",
    "# Group by \"Sex\", \"Age Group\" and \"Medals\" and count the medal occurrences\n",
    "# Sort the columns, gold first, no medal last.\n",
    "age_bins = [10, 20, 30, 40, 50, 60, 70, 80, 90]\n",
    "athlete_age_medal[\"Age Group\"] = pd.cut(athlete_age_medal[\"Age\"], bins=age_bins, labels=[f'{i}-{i+9}' for i in age_bins[:-1]])\n",
    "age_group_medals = athlete_age_medal.groupby([\"Sex\", \"Age Group\", \"Medal\"], observed=False).size().unstack(fill_value=0)\n",
    "age_group_medals = age_group_medals[[\"Gold\", \"Silver\", \"Bronze\"]]"
   ]
  },
  {
   "cell_type": "code",
   "execution_count": null,
   "metadata": {
    "ExecuteTime": {
     "end_time": "2023-11-20T09:23:17.643751300Z",
     "start_time": "2023-11-20T09:23:17.607459400Z"
    },
    "collapsed": false
   },
   "outputs": [],
   "source": [
    "age_group_medals"
   ]
  },
  {
   "cell_type": "code",
   "execution_count": null,
   "metadata": {
    "ExecuteTime": {
     "end_time": "2023-11-20T09:28:18.047440600Z",
     "start_time": "2023-11-20T09:28:17.989654100Z"
    },
    "collapsed": false
   },
   "outputs": [],
   "source": [
    "# Melt the DataFrame for easier plotting\n",
    "# Create bar chart using Plotly Express\n",
    "age_group_medals_melted = pd.melt(age_group_medals.reset_index(), id_vars=[\"Sex\", \"Age Group\"], var_name=\"Medal\", value_name=\"Count\")\n",
    "\n",
    "age_group_medals_diagram = px.bar(\n",
    "    age_group_medals_melted,\n",
    "    x=\"Age Group\",\n",
    "    y=\"Count\",\n",
    "    color=\"Medal\",\n",
    "    color_discrete_map={\"Gold\": \"gold\", \"Silver\": \"silver\", \"Bronze\": \"brown\"},\n",
    "    barmode=\"group\",\n",
    "    facet_col=\"Sex\",\n",
    "    category_orders={\"Medal\": [\"Gold\", \"Silver\", \"Bronze\", \"No medal\"]},\n",
    "    labels={\"Count\": \"Medal Count\", \"Age Group\": \"Age Group\"},\n",
    "    title=\"Medal Counts per Age Group and Sex\"\n",
    ")\n",
    "\n",
    "age_group_medals_diagram.write_html(\"../Projekt_OS_Australien/Visualisering/Age_group_medals_by_sex.html\")"
   ]
  },
  {
   "cell_type": "markdown",
   "metadata": {},
   "source": [
    "### Anonymization function for names in dataset"
   ]
  },
  {
   "cell_type": "code",
   "execution_count": null,
   "metadata": {
    "ExecuteTime": {
     "end_time": "2023-11-20T08:52:30.899847300Z",
     "start_time": "2023-11-20T08:52:30.643395200Z"
    }
   },
   "outputs": [],
   "source": [
    "#Anonymize a name using SHA-256 hashing algorithm\n",
    "def anonymize_names(name):\n",
    "    name_bytes = name.encode() # Transforming the string to bytes with .encode(), since the hash function demands it \n",
    "    hash_object = hashlib.sha256() # Creating an SHA-256 hashobject with hashlib.sha256()\n",
    "    hash_object.update(name_bytes) # Updating the hashobject with the koded name-string (name_bytes)\n",
    "    hashed_name = hash_object.hexdigest() # Making the hashe object into hexdecimal format\n",
    "    return hashed_name\n",
    "\n",
    "# Using the function to anonymize the name column\n",
    "data_athletes['Name'] = data_athletes['Name'].apply(anonymize_names)"
   ]
  },
  {
   "cell_type": "markdown",
   "metadata": {
    "collapsed": false
   },
   "source": [
    "### Number of Medals per Sport for Australia"
   ]
  },
  {
   "cell_type": "code",
   "execution_count": null,
   "metadata": {},
   "outputs": [],
   "source": [
    "# Filter for Australian participants, included Australasia since Australia was a part of that subregion.\n",
    "australian_athletes = data_athletes[data_athletes['NOC'].isin(['AUS', 'ANZ'])]\n",
    "\n",
    "# Filter for rows where a medal has been won\n",
    "australian_medals = australian_athletes.dropna(subset=['Medal'])\n",
    "\n",
    "# Group by sport and count the number of medals\n",
    "medal_counts = australian_medals['Sport'].value_counts()\n",
    "\n",
    "# Create a bar chart to visualize the results\n",
    "medals_per_sport_australia = px.bar(medal_counts, \n",
    "             x=medal_counts.index, \n",
    "             y=medal_counts.values, \n",
    "             title='Number of Medals per Sport for Australia',\n",
    "             labels={'x': 'Sport', 'y': 'Number of Medals'})\n",
    "\n",
    "# Rotating the values under the x-axis\n",
    "medals_per_sport_australia.update_layout(xaxis_tickangle=-90)\n",
    "\n",
    "medals_per_sport_australia.write_html(\"../Projekt_OS_Australien/Visualisering/Medals_per_sport_australia.html\")"
   ]
  },
  {
   "cell_type": "markdown",
   "metadata": {},
   "source": [
    "### Histogram over the ages of Australian athletes"
   ]
  },
  {
   "cell_type": "code",
   "execution_count": null,
   "metadata": {},
   "outputs": [],
   "source": [
    "# Creating the diagram\n",
    "Histogram_Australia = px.histogram(\n",
    "    australian_athletes,\n",
    "    x=\"Age\",\n",
    "    nbins=25,\n",
    "    title=\"Age of Australian olympic athletes\"\n",
    ")\n",
    "\n",
    "# Creating a gap between each bar so it's easier to look at\n",
    "Histogram_Australia.update_layout(\n",
    "    bargap=0.2\n",
    ")\n",
    "\n",
    "Histogram_Australia.write_html(\"../Projekt_OS_Australien/Visualisering/Histogram_Australia_Ages.html\")"
   ]
  },
  {
   "cell_type": "markdown",
   "metadata": {},
   "source": [
    "## Swimming "
   ]
  },
  {
   "cell_type": "markdown",
   "metadata": {},
   "source": [
    "### Medals per country competing in Swimming"
   ]
  },
  {
   "cell_type": "code",
   "execution_count": null,
   "metadata": {},
   "outputs": [],
   "source": [
    "filter_sport = \"Swimming\"\n",
    "\n",
    "# Filteres the data so only swimmers are left\n",
    "filitered_swimming = data_athletes[data_athletes[\"Sport\"] == filter_sport]\n",
    "\n",
    "# Creates a series by grouping NOC and medal column together.\n",
    "# .size() counts the values in each group\n",
    "# unstack(fill_value=0) reshapes it into a dataframe again, while also changing the NaN values to 0\n",
    "# reset_index() resets the index again\n",
    "medals_swimming = filitered_swimming.groupby([\"NOC\", \"Medal\"]).size().unstack(fill_value=0).reset_index()\n",
    "\n",
    "# Filtering out the countries who has participated but has not won any medals\n",
    "medals_swimming = medals_swimming[medals_swimming[[\"Gold\", \"Silver\", \"Bronze\"]].sum(axis=1) > 0]\n",
    "\n",
    "# Sorting the countries based on total medals for easier readability\n",
    "medals_swimming[\"Total Medals\"] = medals_swimming[[\"Gold\", \"Silver\", \"Bronze\"]].sum(axis=1)\n",
    "medals_swimming = medals_swimming.sort_values(by=\"Total Medals\", ascending=False)\n",
    "\n",
    "# Taking the top 20 countries for easier readability\n",
    "medals_swimming = medals_swimming.head(20)\n",
    "\n",
    "medals_country_swimming = px.bar(\n",
    "    medals_swimming,\n",
    "    x=\"NOC\",\n",
    "    y=[\"Gold\", \"Silver\", \"Bronze\"],\n",
    "    labels={\"NOC\": \"Country\", \"value\" : \"Medals\"},\n",
    "    barmode=\"group\",\n",
    "    title=\"Amount of Swimming medals per country\"\n",
    ")\n",
    "\n",
    "medals_country_swimming.write_html(\"../Projekt_OS_Australien/Visualisering/Medals_country_swimming.html\")\n"
   ]
  },
  {
   "cell_type": "markdown",
   "metadata": {},
   "source": [
    "### Age groups for swimming"
   ]
  },
  {
   "cell_type": "code",
   "execution_count": null,
   "metadata": {},
   "outputs": [],
   "source": [
    "age_distrobution_swimming = px.histogram(\n",
    "    filitered_swimming,\n",
    "    x=\"Age\",\n",
    "    nbins=10,\n",
    "    title=\"Age distrubution of swimmers\"\n",
    ")\n",
    "\n",
    "age_distrobution_swimming.update_layout(\n",
    "    bargap=0.1\n",
    ")\n",
    "\n",
    "age_distrobution_swimming.write_html(\"../Projekt_OS_Australien/Visualisering/Age_distrubution_swimming.html\")"
   ]
  }
 ],
 "metadata": {
  "kernelspec": {
   "display_name": "Python 3",
   "language": "python",
   "name": "python3"
  },
  "language_info": {
   "codemirror_mode": {
    "name": "ipython",
    "version": 3
   },
   "file_extension": ".py",
   "mimetype": "text/x-python",
   "name": "python",
   "nbconvert_exporter": "python",
   "pygments_lexer": "ipython3",
   "version": "3.11.5"
  }
 },
 "nbformat": 4,
 "nbformat_minor": 2
}
