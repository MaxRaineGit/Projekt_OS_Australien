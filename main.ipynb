{
 "cells": [
  {
   "cell_type": "code",
   "execution_count": null,
   "metadata": {
    "ExecuteTime": {
     "end_time": "2023-11-21T08:48:25.788656500Z",
     "start_time": "2023-11-21T08:48:25.227789200Z"
    }
   },
   "outputs": [],
   "source": [
    "import pandas as pd\n",
    "import numpy as np\n",
    "import plotly_express as px\n",
    "import hashlib\n",
    "\n",
    "# Load datasets\n",
    "data_athletes = pd.read_csv('Data/athlete_events.csv')\n",
    "data_noc = pd.read_csv('Data/noc_regions.csv')"
   ]
  },
  {
   "cell_type": "markdown",
   "metadata": {},
   "source": [
    "### Which countries are included in the dataset?"
   ]
  },
  {
   "cell_type": "code",
   "execution_count": 28,
   "metadata": {
    "ExecuteTime": {
     "end_time": "2023-11-21T08:48:25.801201500Z",
     "start_time": "2023-11-21T08:48:25.791928300Z"
    }
   },
   "outputs": [
    {
     "name": "stdout",
     "output_type": "stream",
     "text": [
      "Afghanistan\n",
      "Curacao\n",
      "Albania\n",
      "Algeria\n",
      "Andorra\n",
      "Angola\n",
      "Antigua\n",
      "Australia\n",
      "Argentina\n",
      "Armenia\n",
      "Aruba\n",
      "American Samoa\n",
      "Austria\n",
      "Azerbaijan\n",
      "Bahamas\n",
      "Bangladesh\n",
      "Barbados\n",
      "Burundi\n",
      "Belgium\n",
      "Benin\n",
      "Bermuda\n",
      "Bhutan\n",
      "Bosnia and Herzegovina\n",
      "Belize\n",
      "Belarus\n",
      "Czech Republic\n",
      "Boliva\n",
      "Botswana\n",
      "Brazil\n",
      "Bahrain\n",
      "Brunei\n",
      "Bulgaria\n",
      "Burkina Faso\n",
      "Central African Republic\n",
      "Cambodia\n",
      "Canada\n",
      "Cayman Islands\n",
      "Republic of Congo\n",
      "Chad\n",
      "Chile\n",
      "China\n",
      "Ivory Coast\n",
      "Cameroon\n",
      "Democratic Republic of the Congo\n",
      "Cook Islands\n",
      "Colombia\n",
      "Comoros\n",
      "Cape Verde\n",
      "Costa Rica\n",
      "Croatia\n",
      "Greece\n",
      "Cuba\n",
      "Cyprus\n",
      "Denmark\n",
      "Djibouti\n",
      "Dominica\n",
      "Dominican Republic\n",
      "Ecuador\n",
      "Egypt\n",
      "Eritrea\n",
      "El Salvador\n",
      "Spain\n",
      "Estonia\n",
      "Ethiopia\n",
      "Russia\n",
      "Fiji\n",
      "Finland\n",
      "France\n",
      "Germany\n",
      "Micronesia\n",
      "Gabon\n",
      "Gambia\n",
      "UK\n",
      "Guinea-Bissau\n",
      "Georgia\n",
      "Equatorial Guinea\n",
      "Ghana\n",
      "Grenada\n",
      "Guatemala\n",
      "Guinea\n",
      "Guam\n",
      "Guyana\n",
      "Haiti\n",
      "Honduras\n",
      "Hungary\n",
      "Indonesia\n",
      "India\n",
      "Iran\n",
      "Ireland\n",
      "Iraq\n",
      "Iceland\n",
      "Israel\n",
      "Virgin Islands, US\n",
      "Italy\n",
      "Virgin Islands, British\n",
      "Jamaica\n",
      "Jordan\n",
      "Japan\n",
      "Kazakhstan\n",
      "Kenya\n",
      "Kyrgyzstan\n",
      "Kiribati\n",
      "South Korea\n",
      "Kosovo\n",
      "Saudi Arabia\n",
      "Kuwait\n",
      "Laos\n",
      "Latvia\n",
      "Libya\n",
      "Liberia\n",
      "Saint Lucia\n",
      "Lesotho\n",
      "Lebanon\n",
      "Liechtenstein\n",
      "Lithuania\n",
      "Luxembourg\n",
      "Madagascar\n",
      "Malaysia\n",
      "Morocco\n",
      "Malawi\n",
      "Moldova\n",
      "Maldives\n",
      "Mexico\n",
      "Mongolia\n",
      "Marshall Islands\n",
      "Macedonia\n",
      "Mali\n",
      "Malta\n",
      "Montenegro\n",
      "Monaco\n",
      "Mozambique\n",
      "Mauritius\n",
      "Mauritania\n",
      "Myanmar\n",
      "Namibia\n",
      "Nicaragua\n",
      "Netherlands\n",
      "Nepal\n",
      "Nigeria\n",
      "Niger\n",
      "Norway\n",
      "Nauru\n",
      "New Zealand\n",
      "Oman\n",
      "Pakistan\n",
      "Panama\n",
      "Paraguay\n",
      "Peru\n",
      "Philippines\n",
      "Palestine\n",
      "Palau\n",
      "Papua New Guinea\n",
      "Poland\n",
      "Portugal\n",
      "North Korea\n",
      "Puerto Rico\n",
      "Qatar\n",
      "Zimbabwe\n",
      "nan\n",
      "Romania\n",
      "South Africa\n",
      "Rwanda\n",
      "Samoa\n",
      "Serbia\n",
      "Senegal\n",
      "Seychelles\n",
      "Singapore\n",
      "Saint Kitts\n",
      "Sierra Leone\n",
      "Slovenia\n",
      "San Marino\n",
      "Solomon Islands\n",
      "Somalia\n",
      "Sri Lanka\n",
      "South Sudan\n",
      "Sao Tome and Principe\n",
      "Sudan\n",
      "Switzerland\n",
      "Suriname\n",
      "Slovakia\n",
      "Sweden\n",
      "Swaziland\n",
      "Syria\n",
      "Tanzania\n",
      "Tonga\n",
      "Thailand\n",
      "Tajikistan\n",
      "Turkmenistan\n",
      "Timor-Leste\n",
      "Togo\n",
      "Taiwan\n",
      "Trinidad\n",
      "Tunisia\n",
      "Turkey\n",
      "United Arab Emirates\n",
      "Uganda\n",
      "Ukraine\n",
      "Uruguay\n",
      "USA\n",
      "Uzbekistan\n",
      "Vanuatu\n",
      "Venezuela\n",
      "Vietnam\n",
      "Saint Vincent\n",
      "Yemen\n",
      "Zambia\n",
      "Tuvalu\n"
     ]
    }
   ],
   "source": [
    "# Extract unique region names\n",
    "unique_regions = data_noc['region'].unique()\n",
    "exclusions_region = ['Individual Olympic Athletes', 'NA'] # Exclusion list for regions\n",
    "\n",
    "# TUV was described as 'NA' in the region column but had a name in the notes column\n",
    "if 'Tuvalu' not in unique_regions:\n",
    "    # Manually add 'Tuvalu' to the list of unique regions\n",
    "    unique_regions = list(unique_regions) + ['Tuvalu']\n",
    "\n",
    "# Print the list of unique region names\n",
    "for region in unique_regions:\n",
    "    if region not in exclusions_region:\n",
    "        print(region)"
   ]
  },
  {
   "cell_type": "markdown",
   "metadata": {},
   "source": [
    "### How many countries are included in the dataset?"
   ]
  },
  {
   "cell_type": "code",
   "execution_count": 29,
   "metadata": {
    "ExecuteTime": {
     "end_time": "2023-11-21T08:48:25.816072Z",
     "start_time": "2023-11-21T08:48:25.797609700Z"
    }
   },
   "outputs": [
    {
     "name": "stdout",
     "output_type": "stream",
     "text": [
      "Total number of unique regions: 207\n"
     ]
    }
   ],
   "source": [
    "# Filter out excluded regions and count\n",
    "filtered_regions = [\n",
    "    region for region in unique_regions\n",
    "        if region not in exclusions_region]\n",
    "\n",
    "number_of_unique_regions = len(filtered_regions)\n",
    "\n",
    "print(f\"Total number of unique regions: {number_of_unique_regions}\")"
   ]
  },
  {
   "cell_type": "markdown",
   "metadata": {},
   "source": [
    "### Which sports are in the event?"
   ]
  },
  {
   "cell_type": "code",
   "execution_count": null,
   "metadata": {
    "ExecuteTime": {
     "end_time": "2023-11-21T08:48:25.918885500Z",
     "start_time": "2023-11-21T08:48:25.817071900Z"
    }
   },
   "outputs": [],
   "source": [
    "sports_list = data_athletes['Sport'].unique()\n",
    "\n",
    "print(\"Types of sports:\")\n",
    "for sport in sports_list:\n",
    "    print(sport)"
   ]
  },
  {
   "cell_type": "markdown",
   "metadata": {},
   "source": [
    "### What types of medals are won?"
   ]
  },
  {
   "cell_type": "code",
   "execution_count": 31,
   "metadata": {
    "ExecuteTime": {
     "end_time": "2023-11-21T08:48:25.919900100Z",
     "start_time": "2023-11-21T08:48:25.842586400Z"
    }
   },
   "outputs": [
    {
     "name": "stdout",
     "output_type": "stream",
     "text": [
      "Types of medals:\n",
      "Gold\n",
      "Bronze\n",
      "Silver\n"
     ]
    }
   ],
   "source": [
    "medal_types = data_athletes['Medal'].unique()\n",
    "\n",
    "# Removes the rows where no medals has been won\n",
    "medal_types_filtered = np.delete(medal_types, 0)\n",
    "\n",
    "print(\"Types of medals:\")\n",
    "for medal in medal_types_filtered:\n",
    "    print(medal)"
   ]
  },
  {
   "cell_type": "markdown",
   "metadata": {},
   "source": [
    "### Sex distribiution chart"
   ]
  },
  {
   "cell_type": "code",
   "execution_count": 32,
   "metadata": {
    "ExecuteTime": {
     "end_time": "2023-11-21T08:48:25.994712400Z",
     "start_time": "2023-11-21T08:48:25.856040900Z"
    }
   },
   "outputs": [],
   "source": [
    "# Remove duplicate entries based on 'ID' to ensure each athlete is counted only once.\n",
    "data_unique_athletes = data_athletes.drop_duplicates(subset=['ID'])\n",
    "\n",
    "# Count the number of male and female participants\n",
    "sex_distribution = data_unique_athletes['Sex'].value_counts()\n",
    "\n",
    "# Creating a pie chart\n",
    "sex_distribution_piechart = px.pie(sex_distribution, \n",
    "            # The lambda function in the names argument is used to map \"F\" to \"Female\" and \"M\" to \"Male\".\n",
    "             names=sex_distribution.index.map(lambda x: 'Female' if x == 'F' else 'Male'),\n",
    "             values=sex_distribution.values,\n",
    "             title='Sex distribution of all athletes',\n",
    "             labels={'names' : 'Sex', \"values\" : 'Amount'})\n",
    "\n",
    "sex_distribution_piechart.write_html((\"../Projekt_OS_Australien/Visualisering/Sex_distribution_piechart.html\"))"
   ]
  },
  {
   "cell_type": "markdown",
   "metadata": {},
   "source": [
    "### Top 10 countries based on total medals won"
   ]
  },
  {
   "cell_type": "code",
   "execution_count": 33,
   "metadata": {
    "ExecuteTime": {
     "end_time": "2023-11-21T08:48:26.080144300Z",
     "start_time": "2023-11-21T08:48:25.954159900Z"
    }
   },
   "outputs": [],
   "source": [
    "# Creates a new dataframe grouping that only shows the columns \"Team\" and \"Total Medals\"\n",
    "# Value_counts Counts the values for each row\n",
    "# Unstack transforms the groupby into a new dataframe\n",
    "# fillna changes the missing data to having a value of 0 so it wont effect the counting\n",
    "# Sum counts everthing in the first axis which is \"Total Medals\" after we used reset_index to both reset the index and change the name of the second column.\n",
    "country_medals = data_athletes.groupby(\"NOC\")[\"Medal\"].value_counts().unstack().fillna(0).sum(axis=1).reset_index(name=\"Total Medals\")\n",
    "\n",
    "top_ten_countries = country_medals.sort_values(by=\"Total Medals\", ascending=False).head(10)\n",
    "\n",
    "top_ten_countries_diagram = px.bar(\n",
    "    top_ten_countries,\n",
    "    x=\"NOC\", y=\"Total Medals\",\n",
    "    title=\"Top 10 countries based on total medals won:\",\n",
    "    color=\"NOC\",\n",
    "    labels={\"NOC\" : \"Countries\", \"Total Medals\" : \"Medals\"}\n",
    ")\n",
    "\n",
    "top_ten_countries_diagram.write_html(\"../Projekt_OS_Australien/Visualisering/Top_ten_countries_medals.html\")"
   ]
  },
  {
   "cell_type": "markdown",
   "metadata": {
    "collapsed": false
   },
   "source": [
    "### Age Statistics"
   ]
  },
  {
   "cell_type": "code",
   "execution_count": null,
   "metadata": {
    "ExecuteTime": {
     "end_time": "2023-11-21T08:48:26.135940200Z",
     "start_time": "2023-11-21T08:48:26.080144300Z"
    },
    "collapsed": false
   },
   "outputs": [],
   "source": [
    "# Create dataframe grouping with athletes age, sex and medal\n",
    "# Dropping rows without age data and filling NaN in Medals with \"No medal\"\n",
    "# Showing age statistics overall and by sex\n",
    "athlete_age_medal = data_athletes[[\"Sex\", \"Age\", \"Medal\"]].dropna(subset=[\"Age\"]).fillna({\"Medal\": \"No medal\"})\n",
    "\n",
    "age_stats = athlete_age_medal[\"Age\"]\n",
    "age_stats_by_sex = athlete_age_medal.groupby(\"Sex\")[\"Age\"]"
   ]
  },
  {
   "cell_type": "code",
   "execution_count": null,
   "metadata": {
    "ExecuteTime": {
     "end_time": "2023-11-21T08:48:26.155933Z",
     "start_time": "2023-11-21T08:48:26.135940200Z"
    },
    "collapsed": false
   },
   "outputs": [],
   "source": [
    "age_stats.describe()"
   ]
  },
  {
   "cell_type": "code",
   "execution_count": null,
   "metadata": {
    "ExecuteTime": {
     "end_time": "2023-11-21T08:48:26.209793900Z",
     "start_time": "2023-11-21T08:48:26.157935100Z"
    },
    "collapsed": false
   },
   "outputs": [],
   "source": [
    "age_stats_by_sex.describe()"
   ]
  },
  {
   "cell_type": "markdown",
   "metadata": {
    "collapsed": false
   },
   "source": [
    "### Medals by age group"
   ]
  },
  {
   "cell_type": "code",
   "execution_count": null,
   "metadata": {
    "ExecuteTime": {
     "end_time": "2023-11-21T08:48:26.362680500Z",
     "start_time": "2023-11-21T08:48:26.204425200Z"
    },
    "collapsed": false
   },
   "outputs": [],
   "source": [
    "# Defining age bins\n",
    "# Creating new column \"Age Group\" based on the age bins\n",
    "# Group by \"Sex\", \"Age Group\" and \"Medals\" and count the medal occurrences\n",
    "# Sort the columns, gold first, no medal last.\n",
    "age_bins = [10, 20, 30, 40, 50, 60, 70, 80, 90]\n",
    "athlete_age_medal[\"Age Group\"] = pd.cut(athlete_age_medal[\"Age\"], bins=age_bins, labels=[f'{i}-{i+9}' for i in age_bins[:-1]])\n",
    "age_group_medals = athlete_age_medal.groupby([\"Sex\", \"Age Group\", \"Medal\"], observed=False).size().unstack(fill_value=0)\n",
    "age_group_medals = age_group_medals[[\"Gold\", \"Silver\", \"Bronze\"]]"
   ]
  },
  {
   "cell_type": "code",
   "execution_count": null,
   "metadata": {
    "ExecuteTime": {
     "end_time": "2023-11-21T08:48:26.401179300Z",
     "start_time": "2023-11-21T08:48:26.274452900Z"
    },
    "collapsed": false
   },
   "outputs": [],
   "source": [
    "age_group_medals"
   ]
  },
  {
   "cell_type": "code",
   "execution_count": 39,
   "metadata": {
    "ExecuteTime": {
     "end_time": "2023-11-21T08:48:26.404192800Z",
     "start_time": "2023-11-21T08:48:26.286790400Z"
    },
    "collapsed": false
   },
   "outputs": [],
   "source": [
    "# Melt the DataFrame for easier plotting\n",
    "# Create bar chart using Plotly Express\n",
    "age_group_medals_melted = pd.melt(age_group_medals.reset_index(), id_vars=[\"Sex\", \"Age Group\"], var_name=\"Medal\", value_name=\"Count\")\n",
    "\n",
    "age_group_medals_diagram = px.bar(\n",
    "    age_group_medals_melted,\n",
    "    x=\"Age Group\",\n",
    "    y=\"Count\",\n",
    "    color=\"Medal\",\n",
    "    color_discrete_map={\"Gold\": \"gold\", \"Silver\": \"silver\", \"Bronze\": \"brown\"},\n",
    "    barmode=\"group\",\n",
    "    facet_col=\"Sex\",\n",
    "    category_orders={\"Medal\": [\"Gold\", \"Silver\", \"Bronze\", \"No medal\"]},\n",
    "    labels={\"Count\": \"Medal Count\", \"Age Group\": \"Age Group\"},\n",
    "    title=\"Medal Counts per Age Group and Sex\"\n",
    ")\n",
    "\n",
    "age_group_medals_diagram.write_html(\"../Projekt_OS_Australien/Visualisering/Age_group_medals_by_sex.html\")"
   ]
  },
  {
   "cell_type": "markdown",
   "metadata": {},
   "source": [
    "### Anonymization function for names in dataset"
   ]
  },
  {
   "cell_type": "code",
   "execution_count": null,
   "metadata": {
    "ExecuteTime": {
     "end_time": "2023-11-21T08:48:26.730239700Z",
     "start_time": "2023-11-21T08:48:26.365391600Z"
    }
   },
   "outputs": [],
   "source": [
    "#Anonymize a name using SHA-256 hashing algorithm\n",
    "def anonymize_names(name):\n",
    "    name_bytes = name.encode() # Transforming the string to bytes with .encode(), since the hash function demands it \n",
    "    hash_object = hashlib.sha256() # Creating an SHA-256 hashobject with hashlib.sha256()\n",
    "    hash_object.update(name_bytes) # Updating the hashobject with the koded name-string (name_bytes)\n",
    "    hashed_name = hash_object.hexdigest() # Making the hashe object into hexdecimal format\n",
    "    return hashed_name\n",
    "\n",
    "# Using the function to anonymize the name column\n",
    "data_athletes['Name'] = data_athletes['Name'].apply(anonymize_names)"
   ]
  },
  {
   "cell_type": "markdown",
   "metadata": {
    "collapsed": false
   },
   "source": [
    "### Number of Medals per Sport for Australia"
   ]
  },
  {
   "cell_type": "code",
   "execution_count": null,
   "metadata": {
    "ExecuteTime": {
     "end_time": "2023-11-21T08:48:26.781194400Z",
     "start_time": "2023-11-21T08:48:26.686741900Z"
    }
   },
   "outputs": [],
   "source": [
    "# Filter for Australian participants, included Australasia since Australia was a part of that subregion.\n",
    "australian_athletes = data_athletes[data_athletes['NOC'].isin(['AUS', 'ANZ'])]\n",
    "\n",
    "# Filter for rows where a medal has been won\n",
    "australian_medals = australian_athletes.dropna(subset=['Medal'])\n",
    "\n",
    "# Group by sport and count the number of medals\n",
    "medal_counts = australian_medals['Sport'].value_counts()\n",
    "\n",
    "# Create a bar chart to visualize the results\n",
    "medals_per_sport_australia = px.bar(medal_counts, \n",
    "             x=medal_counts.index, \n",
    "             y=medal_counts.values, \n",
    "             title='Number of Medals per Sport for Australia',\n",
    "             labels={'x': 'Sport', 'y': 'Number of Medals'})\n",
    "\n",
    "# Rotating the values under the x-axis\n",
    "medals_per_sport_australia.update_layout(xaxis_tickangle=-90)\n",
    "\n",
    "medals_per_sport_australia.write_html(\"../Projekt_OS_Australien/Visualisering/Medals_per_sport_australia.html\")"
   ]
  },
  {
   "cell_type": "markdown",
   "metadata": {
    "collapsed": false
   },
   "source": [
    "### Amount of medals per olympic games for Australia"
   ]
  },
  {
   "cell_type": "code",
   "execution_count": 46,
   "metadata": {
    "ExecuteTime": {
     "end_time": "2023-11-21T08:48:55.737462500Z",
     "start_time": "2023-11-21T08:48:55.658457Z"
    },
    "collapsed": false
   },
   "outputs": [],
   "source": [
    "# Create dataframe grouping australian medals per season, year and medal amounts\n",
    "# Sort the columns, gold first, bronze last\n",
    "# Create stacked bar chart to show results\n",
    "\n",
    "australian_medals_per_year = australian_medals.groupby([\"Season\", \"Year\", \"Medal\"]).size().unstack(fill_value=0)\n",
    "australian_medals_per_year = australian_medals_per_year[[\"Gold\", \"Silver\", \"Bronze\"]].reset_index()\n",
    "\n",
    "\n",
    "australian_medals_per_year_diagram = px.bar(\n",
    "    australian_medals_per_year,\n",
    "    x=\"Year\",\n",
    "    y=[\"Gold\", \"Silver\", \"Bronze\"],\n",
    "    color_discrete_map={\"Gold\": \"gold\", \"Silver\": \"silver\", \"Bronze\": \"brown\"},\n",
    "    barmode=\"stack\",\n",
    "    facet_col=\"Season\",\n",
    "    labels={\"value\": \"Medal Count\", \"Year\": \"Year\"},\n",
    "    title=\"Amount of medals per olympic games for Australia\",\n",
    ")\n",
    "\n",
    "australian_medals_per_year_diagram.write_html(\"../Projekt_OS_Australien/Visualisering/Medals_per_year_australia.html\")"
   ]
  },
  {
   "cell_type": "markdown",
   "metadata": {},
   "source": [
    "### Histogram over the ages of Australian athletes"
   ]
  },
  {
   "cell_type": "code",
   "execution_count": null,
   "metadata": {
    "ExecuteTime": {
     "end_time": "2023-11-21T08:48:26.913039700Z",
     "start_time": "2023-11-21T08:48:26.859045500Z"
    }
   },
   "outputs": [],
   "source": [
    "# Creating the diagram\n",
    "Histogram_Australia = px.histogram(\n",
    "    australian_athletes,\n",
    "    x=\"Age\",\n",
    "    nbins=25,\n",
    "    title=\"Age of Australian olympic athletes\"\n",
    ")\n",
    "\n",
    "# Creating a gap between each bar so it's easier to look at\n",
    "Histogram_Australia.update_layout(\n",
    "    bargap=0.2\n",
    ")\n",
    "\n",
    "Histogram_Australia.write_html(\"../Projekt_OS_Australien/Visualisering/Histogram_Australia_Ages.html\")"
   ]
  },
  {
   "cell_type": "markdown",
   "metadata": {},
   "source": [
    "## Swimming "
   ]
  },
  {
   "cell_type": "markdown",
   "metadata": {},
   "source": [
    "### Medals per country competing in Swimming"
   ]
  },
  {
   "cell_type": "code",
   "execution_count": null,
   "metadata": {
    "ExecuteTime": {
     "end_time": "2023-11-21T08:48:27.009131700Z",
     "start_time": "2023-11-21T08:48:26.914463300Z"
    }
   },
   "outputs": [],
   "source": [
    "filter_sport = \"Swimming\"\n",
    "\n",
    "# Filteres the data so only swimmers are left\n",
    "filitered_swimming = data_athletes[data_athletes[\"Sport\"] == filter_sport]\n",
    "\n",
    "# Creates a series by grouping NOC and medal column together.\n",
    "# .size() counts the values in each group\n",
    "# unstack(fill_value=0) reshapes it into a dataframe again, while also changing the NaN values to 0\n",
    "# reset_index() resets the index again\n",
    "medals_swimming = filitered_swimming.groupby([\"NOC\", \"Medal\"]).size().unstack(fill_value=0).reset_index()\n",
    "\n",
    "# Filtering out the countries who has participated but has not won any medals\n",
    "medals_swimming = medals_swimming[medals_swimming[[\"Gold\", \"Silver\", \"Bronze\"]].sum(axis=1) > 0]\n",
    "\n",
    "# Sorting the countries based on total medals for easier readability\n",
    "medals_swimming[\"Total Medals\"] = medals_swimming[[\"Gold\", \"Silver\", \"Bronze\"]].sum(axis=1)\n",
    "medals_swimming = medals_swimming.sort_values(by=\"Total Medals\", ascending=False)\n",
    "\n",
    "# Taking the top 20 countries for easier readability\n",
    "medals_swimming = medals_swimming.head(20)\n",
    "\n",
    "medals_country_swimming = px.bar(\n",
    "    medals_swimming,\n",
    "    x=\"NOC\",\n",
    "    y=[\"Gold\", \"Silver\", \"Bronze\"],\n",
    "    labels={\"NOC\": \"Country\", \"value\" : \"Medals\"},\n",
    "    barmode=\"group\",\n",
    "    title=\"Amount of Swimming medals per country\"\n",
    ")\n",
    "\n",
    "medals_country_swimming.write_html(\"../Projekt_OS_Australien/Visualisering/Medals_country_swimming.html\")\n"
   ]
  },
  {
   "cell_type": "markdown",
   "metadata": {},
   "source": [
    "### Age groups for swimming"
   ]
  },
  {
   "cell_type": "code",
   "execution_count": null,
   "metadata": {
    "ExecuteTime": {
     "end_time": "2023-11-21T08:48:27.085175900Z",
     "start_time": "2023-11-21T08:48:27.010134200Z"
    }
   },
   "outputs": [],
   "source": [
    "age_distrobution_swimming = px.histogram(\n",
    "    filitered_swimming,\n",
    "    x=\"Age\",\n",
    "    nbins=10,\n",
    "    title=\"Age distrubution of swimmers\"\n",
    ")\n",
    "\n",
    "age_distrobution_swimming.update_layout(\n",
    "    bargap=0.1\n",
    ")\n",
    "\n",
    "age_distrobution_swimming.write_html(\"../Projekt_OS_Australien/Visualisering/Age_distrubution_swimming.html\")"
   ]
  },
  {
   "cell_type": "markdown",
   "id": "154a7f92",
   "metadata": {},
   "source": [
    "<span style=\"color:red\"><b><<<<<<< local</b></span>"
   ]
  },
  {
   "cell_type": "markdown",
   "metadata": {},
   "source": [
    "### Tug-Of-War\n",
    "\n",
    "## Medal distribution among countries in Tug-Of-War"
   ]
  },
  {
   "cell_type": "code",
   "execution_count": null,
   "metadata": {},
   "outputs": [],
   "source": [
    "# Filter for Tug-Of-War\n",
    "tug_of_war_data = data_athletes[data_athletes['Sport'] == 'Tug-Of-War']\n",
    "\n",
    "# Plot for medal distribution among countries in Tug-Of-War\n",
    "tug_of_war_medals = tug_of_war_data[tug_of_war_data['Medal'].notna()]\n",
    "medal_distribution_tug_of_war = tug_of_war_medals['NOC'].value_counts().reset_index()\n",
    "medal_distribution_tug_of_war.columns = ['NOC', 'Medals']\n",
    "\n",
    "medal_distribution_tug_of_war = px.bar(\n",
    "    medal_distribution_tug_of_war.head(10),\n",
    "    x='NOC', \n",
    "    y='Medals',\n",
    "    title='Top 10 Countries in Medal Count for Tug-Of-War',\n",
    "    labels={\n",
    "        'NOC': 'National Olympic Committee',\n",
    "        'Medals': 'Number of Medals'\n",
    "    }\n",
    ")\n",
    "\n",
    "medal_distribution_tug_of_war.write_html(\"../Projekt_OS_Australien/Visualisering/Medal_distribution_tug_of_war.html\")"
   ]
  },
  {
   "cell_type": "markdown",
   "id": "c99d72b6",
   "metadata": {},
   "source": [
    "<span style=\"color:red\"><b>=======</b></span>"
   ]
  },
  {
   "cell_type": "markdown",
   "metadata": {
    "collapsed": false
   },
   "source": [
    "## Cross country skiing"
   ]
  },
  {
   "cell_type": "markdown",
   "metadata": {
    "collapsed": false
   },
   "source": [
    "### Cross country skiing medals per country"
   ]
  },
  {
   "cell_type": "code",
   "execution_count": 73,
   "metadata": {
    "ExecuteTime": {
     "end_time": "2023-11-21T09:17:26.836297500Z",
     "start_time": "2023-11-21T09:17:26.500980400Z"
    },
    "collapsed": false
   },
   "outputs": [
    {
     "data": {
      "text/html": [
       "<div>\n",
       "<style scoped>\n",
       "    .dataframe tbody tr th:only-of-type {\n",
       "        vertical-align: middle;\n",
       "    }\n",
       "\n",
       "    .dataframe tbody tr th {\n",
       "        vertical-align: top;\n",
       "    }\n",
       "\n",
       "    .dataframe thead th {\n",
       "        text-align: right;\n",
       "    }\n",
       "</style>\n",
       "<table border=\"1\" class=\"dataframe\">\n",
       "  <thead>\n",
       "    <tr style=\"text-align: right;\">\n",
       "      <th>Medal</th>\n",
       "      <th>NOC</th>\n",
       "      <th>Gold</th>\n",
       "      <th>Silver</th>\n",
       "      <th>Bronze</th>\n",
       "    </tr>\n",
       "  </thead>\n",
       "  <tbody>\n",
       "    <tr>\n",
       "      <th>12</th>\n",
       "      <td>NOR</td>\n",
       "      <td>54</td>\n",
       "      <td>73</td>\n",
       "      <td>37</td>\n",
       "    </tr>\n",
       "    <tr>\n",
       "      <th>6</th>\n",
       "      <td>FIN</td>\n",
       "      <td>35</td>\n",
       "      <td>42</td>\n",
       "      <td>64</td>\n",
       "    </tr>\n",
       "    <tr>\n",
       "      <th>17</th>\n",
       "      <td>SWE</td>\n",
       "      <td>54</td>\n",
       "      <td>30</td>\n",
       "      <td>39</td>\n",
       "    </tr>\n",
       "    <tr>\n",
       "      <th>19</th>\n",
       "      <td>URS</td>\n",
       "      <td>44</td>\n",
       "      <td>35</td>\n",
       "      <td>32</td>\n",
       "    </tr>\n",
       "    <tr>\n",
       "      <th>10</th>\n",
       "      <td>ITA</td>\n",
       "      <td>15</td>\n",
       "      <td>21</td>\n",
       "      <td>25</td>\n",
       "    </tr>\n",
       "    <tr>\n",
       "      <th>14</th>\n",
       "      <td>RUS</td>\n",
       "      <td>23</td>\n",
       "      <td>14</td>\n",
       "      <td>12</td>\n",
       "    </tr>\n",
       "    <tr>\n",
       "      <th>9</th>\n",
       "      <td>GER</td>\n",
       "      <td>6</td>\n",
       "      <td>19</td>\n",
       "      <td>10</td>\n",
       "    </tr>\n",
       "    <tr>\n",
       "      <th>16</th>\n",
       "      <td>SUI</td>\n",
       "      <td>3</td>\n",
       "      <td>0</td>\n",
       "      <td>10</td>\n",
       "    </tr>\n",
       "    <tr>\n",
       "      <th>3</th>\n",
       "      <td>CZE</td>\n",
       "      <td>1</td>\n",
       "      <td>5</td>\n",
       "      <td>6</td>\n",
       "    </tr>\n",
       "    <tr>\n",
       "      <th>5</th>\n",
       "      <td>EUN</td>\n",
       "      <td>6</td>\n",
       "      <td>2</td>\n",
       "      <td>4</td>\n",
       "    </tr>\n",
       "    <tr>\n",
       "      <th>18</th>\n",
       "      <td>TCH</td>\n",
       "      <td>0</td>\n",
       "      <td>4</td>\n",
       "      <td>7</td>\n",
       "    </tr>\n",
       "    <tr>\n",
       "      <th>8</th>\n",
       "      <td>GDR</td>\n",
       "      <td>5</td>\n",
       "      <td>1</td>\n",
       "      <td>4</td>\n",
       "    </tr>\n",
       "    <tr>\n",
       "      <th>4</th>\n",
       "      <td>EST</td>\n",
       "      <td>4</td>\n",
       "      <td>2</td>\n",
       "      <td>1</td>\n",
       "    </tr>\n",
       "    <tr>\n",
       "      <th>0</th>\n",
       "      <td>AUT</td>\n",
       "      <td>1</td>\n",
       "      <td>2</td>\n",
       "      <td>2</td>\n",
       "    </tr>\n",
       "    <tr>\n",
       "      <th>13</th>\n",
       "      <td>POL</td>\n",
       "      <td>2</td>\n",
       "      <td>1</td>\n",
       "      <td>2</td>\n",
       "    </tr>\n",
       "    <tr>\n",
       "      <th>7</th>\n",
       "      <td>FRA</td>\n",
       "      <td>0</td>\n",
       "      <td>1</td>\n",
       "      <td>4</td>\n",
       "    </tr>\n",
       "    <tr>\n",
       "      <th>11</th>\n",
       "      <td>KAZ</td>\n",
       "      <td>1</td>\n",
       "      <td>2</td>\n",
       "      <td>1</td>\n",
       "    </tr>\n",
       "    <tr>\n",
       "      <th>2</th>\n",
       "      <td>CAN</td>\n",
       "      <td>2</td>\n",
       "      <td>2</td>\n",
       "      <td>0</td>\n",
       "    </tr>\n",
       "    <tr>\n",
       "      <th>15</th>\n",
       "      <td>SLO</td>\n",
       "      <td>0</td>\n",
       "      <td>0</td>\n",
       "      <td>2</td>\n",
       "    </tr>\n",
       "    <tr>\n",
       "      <th>1</th>\n",
       "      <td>BUL</td>\n",
       "      <td>0</td>\n",
       "      <td>0</td>\n",
       "      <td>1</td>\n",
       "    </tr>\n",
       "    <tr>\n",
       "      <th>20</th>\n",
       "      <td>USA</td>\n",
       "      <td>0</td>\n",
       "      <td>1</td>\n",
       "      <td>0</td>\n",
       "    </tr>\n",
       "  </tbody>\n",
       "</table>\n",
       "</div>"
      ],
      "text/plain": [
       "Medal  NOC  Gold  Silver  Bronze\n",
       "12     NOR    54      73      37\n",
       "6      FIN    35      42      64\n",
       "17     SWE    54      30      39\n",
       "19     URS    44      35      32\n",
       "10     ITA    15      21      25\n",
       "14     RUS    23      14      12\n",
       "9      GER     6      19      10\n",
       "16     SUI     3       0      10\n",
       "3      CZE     1       5       6\n",
       "5      EUN     6       2       4\n",
       "18     TCH     0       4       7\n",
       "8      GDR     5       1       4\n",
       "4      EST     4       2       1\n",
       "0      AUT     1       2       2\n",
       "13     POL     2       1       2\n",
       "7      FRA     0       1       4\n",
       "11     KAZ     1       2       1\n",
       "2      CAN     2       2       0\n",
       "15     SLO     0       0       2\n",
       "1      BUL     0       0       1\n",
       "20     USA     0       1       0"
      ]
     },
     "execution_count": 73,
     "metadata": {},
     "output_type": "execute_result"
    }
   ],
   "source": [
    "# Making new dataframe only containing cross country skiers\n",
    "# Grouping by NOC and amount of medals\n",
    "cross_country_skiers = data_athletes[data_athletes[\"Sport\"] == \"Cross Country Skiing\"]\n",
    "cross_country_medals = cross_country_skiers.groupby([\"NOC\", \"Medal\"]).size().unstack(fill_value=0).reset_index()\n",
    "\n",
    "# Sorting each NOC by total medals for nicer looking diagram\n",
    "cross_country_medals[\"Total Medals\"] = cross_country_medals[\"Gold\"] + cross_country_medals[\"Silver\"] + cross_country_medals[\"Bronze\"]\n",
    "cross_country_medals_sorted = cross_country_medals.sort_values(by='Total Medals', ascending=False)\n",
    "cross_country_medals_sorted[[\"NOC\", \"Gold\", \"Silver\", \"Bronze\"]]"
   ]
  },
  {
   "cell_type": "code",
   "execution_count": 76,
   "metadata": {
    "ExecuteTime": {
     "end_time": "2023-11-21T09:23:33.442818300Z",
     "start_time": "2023-11-21T09:23:33.376614Z"
    },
    "collapsed": false
   },
   "outputs": [],
   "source": [
    "# Creating stacked bar diagram showing amount of cross country skiing medals for each country\n",
    "cross_country_medals_per_country_diagram = px.bar(\n",
    "   cross_country_medals_sorted,\n",
    "    x=\"NOC\",\n",
    "    y=[\"Gold\", \"Silver\", \"Bronze\"],\n",
    "    color_discrete_map={\"Gold\": \"gold\", \"Silver\": \"silver\", \"Bronze\": \"brown\"},\n",
    "    barmode=\"stack\",\n",
    "    labels={\"value\": \"Medal Count\", \"NOC\": \"Country\"},\n",
    "    title=\"Amount of cross country skiing medals per country\",\n",
    ")\n",
    "\n",
    "cross_country_medals_per_country_diagram.write_html(\"../Projekt_OS_Australien/Visualisering/Cross_country_medals_per_country.html\")"
   ]
  },
  {
   "cell_type": "markdown",
   "metadata": {
    "collapsed": false
   },
   "source": [
    "### Cross country skiing age groups"
   ]
  },
  {
   "cell_type": "code",
   "execution_count": 89,
   "metadata": {
    "ExecuteTime": {
     "end_time": "2023-11-21T09:46:58.794123900Z",
     "start_time": "2023-11-21T09:46:58.709916200Z"
    },
    "collapsed": false
   },
   "outputs": [],
   "source": [
    "# Creating histogram showing cross country skiers ages\n",
    "cross_country_skiers_age_diagram = px.histogram(\n",
    "    cross_country_skiers,\n",
    "    x=\"Age\"\n",
    ")\n",
    "cross_country_skiers_age_diagram.update_layout(\n",
    "    bargap=0.2\n",
    ")\n",
    "cross_country_skiers_age_diagram.write_html(\"../Projekt_OS_Australien/Visualisering/Cross_country_skiers_age.html\")"
   ]
  },
  {
   "cell_type": "code",
   "execution_count": null,
   "metadata": {
    "collapsed": false
   },
   "outputs": [],
   "source": []
  },
  {
   "cell_type": "markdown",
   "id": "0c2b0e1e",
   "metadata": {},
   "source": [
    "<span style=\"color:red\"><b>>>>>>>> remote</b></span>"
   ]
  }
 ],
 "metadata": {
  "kernelspec": {
   "display_name": "Python 3",
   "language": "python",
   "name": "python3"
  },
  "language_info": {
   "codemirror_mode": {
    "name": "ipython",
    "version": 3
   },
   "file_extension": ".py",
   "mimetype": "text/x-python",
   "name": "python",
   "nbconvert_exporter": "python",
   "pygments_lexer": "ipython3",
   "version": "3.12.0"
  }
 },
 "nbformat": 4,
 "nbformat_minor": 2
}
