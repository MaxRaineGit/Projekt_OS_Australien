{
 "cells": [
  {
   "cell_type": "code",
   "execution_count": null,
   "metadata": {},
   "outputs": [],
   "source": [
    "import pandas as pd\n",
    "\n",
    "# Load datasets\n",
    "data_athletes = pd.read_csv('Data/athlete_events.csv')\n",
    "data_noc = pd.read_csv('Data/noc_regions.csv')"
   ]
  },
  {
   "cell_type": "code",
   "execution_count": null,
   "metadata": {},
   "outputs": [],
   "source": [
    "# Extract unique region names\n",
    "unique_regions = data_noc['region'].unique()\n",
    "exclusions_region = ['Individual Olympic Athletes', 'NA'] # Exclusion list for regions\n",
    "\n",
    "# TUV was described as 'NA' in the region column but had a name in the notes column\n",
    "if 'Tuvalu' not in unique_regions:\n",
    "    # Manually add 'Tuvalu' to the list of unique regions\n",
    "    unique_regions = list(unique_regions) + ['Tuvalu']\n",
    "\n",
    "# Print the list of unique region names\n",
    "for region in unique_regions:\n",
    "    if region not in exclusions_region:\n",
    "        print(region)"
   ]
  },
  {
   "cell_type": "code",
   "execution_count": null,
   "metadata": {},
   "outputs": [],
   "source": [
    "# Filter out excluded regions and count\n",
    "filtered_regions = [\n",
    "    region for region in unique_regions\n",
    "        if region not in exclusions_region]\n",
    "\n",
    "number_of_unique_regions = len(filtered_regions)\n",
    "\n",
    "print(f\"Total number of unique regions: {number_of_unique_regions}\")"
   ]
  },
  {
   "cell_type": "code",
   "execution_count": null,
   "metadata": {},
   "outputs": [],
   "source": []
  }
 ],
 "metadata": {
  "kernelspec": {
   "display_name": "Python 3",
   "language": "python",
   "name": "python3"
  },
  "language_info": {
   "codemirror_mode": {
    "name": "ipython",
    "version": 3
   },
   "file_extension": ".py",
   "mimetype": "text/x-python",
   "name": "python",
   "nbconvert_exporter": "python",
   "pygments_lexer": "ipython3",
   "version": "3.12.0"
  }
 },
 "nbformat": 4,
 "nbformat_minor": 2
}
