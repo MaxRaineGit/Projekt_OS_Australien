{
 "cells": [
  {
   "cell_type": "code",
   "execution_count": null,
   "metadata": {},
   "outputs": [],
   "source": [
    "import pandas as pd\n",
    "import numpy as np\n",
    "import plotly_express as px\n",
    "import hashlib\n",
    "\n",
    "# Load datasets\n",
    "data_athletes = pd.read_csv('Data/athlete_events.csv')\n",
    "data_noc = pd.read_csv('Data/noc_regions.csv')"
   ]
  },
  {
   "cell_type": "markdown",
   "metadata": {},
   "source": [
    "### Which countries are included in the dataset?"
   ]
  },
  {
   "cell_type": "code",
   "execution_count": null,
   "metadata": {},
   "outputs": [],
   "source": [
    "# Extract unique region names\n",
    "unique_regions = data_noc['region'].unique()\n",
    "exclusions_region = ['Individual Olympic Athletes', 'NA'] # Exclusion list for regions\n",
    "\n",
    "# TUV was described as 'NA' in the region column but had a name in the notes column\n",
    "if 'Tuvalu' not in unique_regions:\n",
    "    # Manually add 'Tuvalu' to the list of unique regions\n",
    "    unique_regions = list(unique_regions) + ['Tuvalu']\n",
    "\n",
    "# Print the list of unique region names\n",
    "for region in unique_regions:\n",
    "    if region not in exclusions_region:\n",
    "        print(region)"
   ]
  },
  {
   "cell_type": "markdown",
   "metadata": {},
   "source": [
    "### How many countries are included in the dataset?"
   ]
  },
  {
   "cell_type": "code",
   "execution_count": null,
   "metadata": {},
   "outputs": [],
   "source": [
    "# Filter out excluded regions and count\n",
    "filtered_regions = [\n",
    "    region for region in unique_regions\n",
    "        if region not in exclusions_region]\n",
    "\n",
    "number_of_unique_regions = len(filtered_regions)\n",
    "\n",
    "print(f\"Total number of unique regions: {number_of_unique_regions}\")"
   ]
  },
  {
   "cell_type": "markdown",
   "metadata": {},
   "source": [
    "### Which sports are in the event?"
   ]
  },
  {
   "cell_type": "code",
   "execution_count": null,
   "metadata": {},
   "outputs": [],
   "source": [
    "sports_list = data_athletes['Sport'].unique()\n",
    "\n",
    "print(\"Types of sports:\")\n",
    "for sport in sports_list:\n",
    "    print(sport)"
   ]
  },
  {
   "cell_type": "markdown",
   "metadata": {},
   "source": [
    "### What types of medals are won?"
   ]
  },
  {
   "cell_type": "code",
   "execution_count": null,
   "metadata": {},
   "outputs": [],
   "source": [
    "medal_types = data_athletes['Medal'].unique()\n",
    "\n",
    "# Removes the rows where no medals has been won\n",
    "medal_types_filtered = np.delete(medal_types, 0)\n",
    "\n",
    "print(\"Types of medals:\")\n",
    "for medal in medal_types_filtered:\n",
    "    print(medal)"
   ]
  },
  {
   "cell_type": "markdown",
   "metadata": {},
   "source": [
    "### Sex distribiution chart"
   ]
  },
  {
   "cell_type": "code",
   "execution_count": null,
   "metadata": {},
   "outputs": [],
   "source": [
    "# Remove duplicate entries based on 'ID' to ensure each athlete is counted only once.\n",
    "data_unique_athletes = data_athletes.drop_duplicates(subset=['ID'])\n",
    "\n",
    "# Count the number of male and female participants\n",
    "sex_distribution = data_unique_athletes['Sex'].value_counts()\n",
    "\n",
    "# Creating a pie chart\n",
    "sex_distribution_piechart = px.pie(sex_distribution, \n",
    "            # The lambda function in the names argument is used to map \"F\" to \"Female\" and \"M\" to \"Male\".\n",
    "             names=sex_distribution.index.map(lambda x: 'Female' if x == 'F' else 'Male'),\n",
    "             values=sex_distribution.values,\n",
    "             title='Sex distribution of all athletes',\n",
    "             labels={'names' : 'Sex', \"values\" : 'Amount'})\n",
    "\n",
    "sex_distribution_piechart.write_html((\"../Projekt_OS_Australien/Visualisering/Sex_distribution_piechart.html\"))"
   ]
  },
  {
   "cell_type": "markdown",
   "metadata": {},
   "source": [
    "### Top 10 countries based on total medals won"
   ]
  },
  {
   "cell_type": "code",
   "execution_count": null,
   "metadata": {},
   "outputs": [],
   "source": [
    "# Creates a new dataframe grouping that only shows the columns \"Team\" and \"Total Medals\"\n",
    "# Value_counts Counts the values for each row\n",
    "# Unstack transforms the groupby into a new dataframe\n",
    "# fillna changes the missing data to having a value of 0 so it wont effect the counting\n",
    "# Sum counts everthing in the first axis which is \"Total Medals\" after we used reset_index to both reset the index and change the name of the second column.\n",
    "country_medals = data_athletes.groupby(\"NOC\")[\"Medal\"].value_counts().unstack().fillna(0).sum(axis=1).reset_index(name=\"Total Medals\")\n",
    "\n",
    "top_ten_countries = country_medals.sort_values(by=\"Total Medals\", ascending=False).head(10)\n",
    "\n",
    "top_ten_countries_diagram = px.bar(\n",
    "    top_ten_countries,\n",
    "    x=\"NOC\", y=\"Total Medals\",\n",
    "    title=\"Top 10 countries based on total medals won:\",\n",
    "    color=\"NOC\",\n",
    "    labels={\"NOC\" : \"Countries\", \"Total Medals\" : \"Medals\"}\n",
    ")\n",
    "\n",
    "top_ten_countries_diagram.write_html(\"../Projekt_OS_Australien/Visualisering/Top_ten_countries_medals.html\")"
   ]
  },
  {
   "cell_type": "markdown",
   "metadata": {},
   "source": [
    "### Anonymization function for names in dataset"
   ]
  },
  {
   "cell_type": "code",
   "execution_count": null,
   "metadata": {},
   "outputs": [],
   "source": [
    "#Anonymize a name using SHA-256 hashing algorithm\n",
    "def anonymize_names(name):\n",
    "    name_bytes = name.encode() # Transforming the string to bytes with .encode(), since the hash function demands it \n",
    "    hash_object = hashlib.sha256() # Creating an SHA-256 hashobject with hashlib.sha256()\n",
    "    hash_object.update(name_bytes) # Updating the hashobject with the koded name-string (name_bytes)\n",
    "    hashed_name = hash_object.hexdigest() # Making the hashe object into hexdecimal format\n",
    "    return hashed_name\n",
    "\n",
    "# Using the function to anonymize the name column\n",
    "data_athletes['Name'] = data_athletes['Name'].apply(anonymize_names)"
   ]
  }
 ],
 "metadata": {
  "kernelspec": {
   "display_name": "Python 3",
   "language": "python",
   "name": "python3"
  },
  "language_info": {
   "codemirror_mode": {
    "name": "ipython",
    "version": 3
   },
   "file_extension": ".py",
   "mimetype": "text/x-python",
   "name": "python",
   "nbconvert_exporter": "python",
   "pygments_lexer": "ipython3",
   "version": "3.12.0"
  }
 },
 "nbformat": 4,
 "nbformat_minor": 2
}
