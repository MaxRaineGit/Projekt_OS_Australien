{
 "cells": [
  {
   "cell_type": "code",
   "execution_count": 1,
   "metadata": {
    "ExecuteTime": {
     "end_time": "2023-11-20T08:26:29.538602Z",
     "start_time": "2023-11-20T08:26:27.938593300Z"
    }
   },
   "outputs": [],
   "source": [
    "import pandas as pd\n",
    "import numpy as np\n",
    "import plotly_express as px\n",
    "import hashlib\n",
    "\n",
    "# Load datasets\n",
    "data_athletes = pd.read_csv('Data/athlete_events.csv')\n",
    "data_noc = pd.read_csv('Data/noc_regions.csv')"
   ]
  },
  {
   "cell_type": "markdown",
   "metadata": {},
   "source": [
    "### Which countries are included in the dataset?"
   ]
  },
  {
   "cell_type": "code",
   "execution_count": null,
   "metadata": {},
   "outputs": [],
   "source": [
    "# Extract unique region names\n",
    "unique_regions = data_noc['region'].unique()\n",
    "exclusions_region = ['Individual Olympic Athletes', 'NA'] # Exclusion list for regions\n",
    "\n",
    "# TUV was described as 'NA' in the region column but had a name in the notes column\n",
    "if 'Tuvalu' not in unique_regions:\n",
    "    # Manually add 'Tuvalu' to the list of unique regions\n",
    "    unique_regions = list(unique_regions) + ['Tuvalu']\n",
    "\n",
    "# Print the list of unique region names\n",
    "for region in unique_regions:\n",
    "    if region not in exclusions_region:\n",
    "        print(region)"
   ]
  },
  {
   "cell_type": "markdown",
   "metadata": {},
   "source": [
    "### How many countries are included in the dataset?"
   ]
  },
  {
   "cell_type": "code",
   "execution_count": null,
   "metadata": {},
   "outputs": [],
   "source": [
    "# Filter out excluded regions and count\n",
    "filtered_regions = [\n",
    "    region for region in unique_regions\n",
    "        if region not in exclusions_region]\n",
    "\n",
    "number_of_unique_regions = len(filtered_regions)\n",
    "\n",
    "print(f\"Total number of unique regions: {number_of_unique_regions}\")"
   ]
  },
  {
   "cell_type": "markdown",
   "metadata": {},
   "source": [
    "### Which sports are in the event?"
   ]
  },
  {
   "cell_type": "code",
   "execution_count": 33,
   "metadata": {},
   "outputs": [
    {
     "name": "stdout",
     "output_type": "stream",
     "text": [
      "Types of sports:\n",
      "Basketball\n",
      "Judo\n",
      "Football\n",
      "Tug-Of-War\n",
      "Speed Skating\n",
      "Cross Country Skiing\n",
      "Athletics\n",
      "Ice Hockey\n",
      "Swimming\n",
      "Badminton\n",
      "Sailing\n",
      "Biathlon\n",
      "Gymnastics\n",
      "Art Competitions\n",
      "Alpine Skiing\n",
      "Handball\n",
      "Weightlifting\n",
      "Wrestling\n",
      "Luge\n",
      "Water Polo\n",
      "Hockey\n",
      "Rowing\n",
      "Bobsleigh\n",
      "Fencing\n",
      "Equestrianism\n",
      "Shooting\n",
      "Boxing\n",
      "Taekwondo\n",
      "Cycling\n",
      "Diving\n",
      "Canoeing\n",
      "Tennis\n",
      "Modern Pentathlon\n",
      "Figure Skating\n",
      "Golf\n",
      "Softball\n",
      "Archery\n",
      "Volleyball\n",
      "Synchronized Swimming\n",
      "Table Tennis\n",
      "Nordic Combined\n",
      "Baseball\n",
      "Rhythmic Gymnastics\n",
      "Freestyle Skiing\n",
      "Rugby Sevens\n",
      "Trampolining\n",
      "Beach Volleyball\n",
      "Triathlon\n",
      "Ski Jumping\n",
      "Curling\n",
      "Snowboarding\n",
      "Rugby\n",
      "Short Track Speed Skating\n",
      "Skeleton\n",
      "Lacrosse\n",
      "Polo\n",
      "Cricket\n",
      "Racquets\n",
      "Motorboating\n",
      "Military Ski Patrol\n",
      "Croquet\n",
      "Jeu De Paume\n",
      "Roque\n",
      "Alpinism\n",
      "Basque Pelota\n",
      "Aeronautics\n"
     ]
    }
   ],
   "source": [
    "sports_list = data_athletes['Sport'].unique()\n",
    "\n",
    "print(\"Types of sports:\")\n",
    "for sport in sports_list:\n",
    "    print(sport)"
   ]
  },
  {
   "cell_type": "markdown",
   "metadata": {},
   "source": [
    "### What types of medals are won?"
   ]
  },
  {
   "cell_type": "code",
   "execution_count": null,
   "metadata": {},
   "outputs": [],
   "source": [
    "medal_types = data_athletes['Medal'].unique()\n",
    "\n",
    "# Removes the rows where no medals has been won\n",
    "medal_types_filtered = np.delete(medal_types, 0)\n",
    "\n",
    "print(\"Types of medals:\")\n",
    "for medal in medal_types_filtered:\n",
    "    print(medal)"
   ]
  },
  {
   "cell_type": "markdown",
   "metadata": {},
   "source": [
    "### Sex distribiution chart"
   ]
  },
  {
   "cell_type": "code",
   "execution_count": null,
   "metadata": {},
   "outputs": [],
   "source": [
    "# Remove duplicate entries based on 'ID' to ensure each athlete is counted only once.\n",
    "data_unique_athletes = data_athletes.drop_duplicates(subset=['ID'])\n",
    "\n",
    "# Count the number of male and female participants\n",
    "sex_distribution = data_unique_athletes['Sex'].value_counts()\n",
    "\n",
    "# Creating a pie chart\n",
    "sex_distribution_piechart = px.pie(sex_distribution, \n",
    "            # The lambda function in the names argument is used to map \"F\" to \"Female\" and \"M\" to \"Male\".\n",
    "             names=sex_distribution.index.map(lambda x: 'Female' if x == 'F' else 'Male'),\n",
    "             values=sex_distribution.values,\n",
    "             title='Sex distribution of all athletes',\n",
    "             labels={'names' : 'Sex', \"values\" : 'Amount'})\n",
    "\n",
    "sex_distribution_piechart.write_html((\"../Projekt_OS_Australien/Visualisering/Sex_distribution_piechart.html\"))"
   ]
  },
  {
   "cell_type": "markdown",
   "metadata": {},
   "source": [
    "### Top 10 countries based on total medals won"
   ]
  },
  {
   "cell_type": "code",
   "execution_count": null,
   "metadata": {},
   "outputs": [],
   "source": [
    "# Creates a new dataframe grouping that only shows the columns \"Team\" and \"Total Medals\"\n",
    "# Value_counts Counts the values for each row\n",
    "# Unstack transforms the groupby into a new dataframe\n",
    "# fillna changes the missing data to having a value of 0 so it wont effect the counting\n",
    "# Sum counts everthing in the first axis which is \"Total Medals\" after we used reset_index to both reset the index and change the name of the second column.\n",
    "country_medals = data_athletes.groupby(\"NOC\")[\"Medal\"].value_counts().unstack().fillna(0).sum(axis=1).reset_index(name=\"Total Medals\")\n",
    "\n",
    "top_ten_countries = country_medals.sort_values(by=\"Total Medals\", ascending=False).head(10)\n",
    "\n",
    "top_ten_countries_diagram = px.bar(\n",
    "    top_ten_countries,\n",
    "    x=\"NOC\", y=\"Total Medals\",\n",
    "    title=\"Top 10 countries based on total medals won:\",\n",
    "    color=\"NOC\",\n",
    "    labels={\"NOC\" : \"Countries\", \"Total Medals\" : \"Medals\"}\n",
    ")\n",
    "\n",
    "top_ten_countries_diagram.write_html(\"../Projekt_OS_Australien/Visualisering/Top_ten_countries_medals.html\")"
   ]
  },
  {
   "cell_type": "markdown",
   "metadata": {
    "collapsed": false
   },
   "source": [
    "### Age Statistics"
   ]
  },
  {
   "cell_type": "code",
   "execution_count": 2,
   "metadata": {
    "ExecuteTime": {
     "end_time": "2023-11-20T08:52:27.112742200Z",
     "start_time": "2023-11-20T08:52:27.058804300Z"
    },
    "collapsed": false
   },
   "outputs": [],
   "source": [
    "# Create dataframe grouping with athletes age, sex and medal\n",
    "# Dropping rows without age data and filling NaN in Medals with \"No medal\"\n",
    "# Showing age statistics overall and by sex\n",
    "athlete_age_medal = data_athletes[[\"Sex\", \"Age\", \"Medal\"]].dropna(subset=[\"Age\"]).fillna({\"Medal\": \"No medal\"})\n",
    "\n",
    "age_stats = athlete_age_medal[\"Age\"]\n",
    "age_stats_by_sex = athlete_age_medal.groupby(\"Sex\")[\"Age\"]"
   ]
  },
  {
   "cell_type": "code",
   "execution_count": 3,
   "metadata": {
    "ExecuteTime": {
     "end_time": "2023-11-20T08:52:27.919724800Z",
     "start_time": "2023-11-20T08:52:27.877697800Z"
    },
    "collapsed": false
   },
   "outputs": [
    {
     "data": {
      "text/plain": [
       "count    261642.000000\n",
       "mean         25.556898\n",
       "std           6.393561\n",
       "min          10.000000\n",
       "25%          21.000000\n",
       "50%          24.000000\n",
       "75%          28.000000\n",
       "max          97.000000\n",
       "Name: Age, dtype: float64"
      ]
     },
     "execution_count": 3,
     "metadata": {},
     "output_type": "execute_result"
    }
   ],
   "source": [
    "age_stats.describe()"
   ]
  },
  {
   "cell_type": "code",
   "execution_count": 4,
   "metadata": {
    "ExecuteTime": {
     "end_time": "2023-11-20T08:52:28.971366100Z",
     "start_time": "2023-11-20T08:52:28.937172300Z"
    },
    "collapsed": false
   },
   "outputs": [
    {
     "data": {
      "text/html": [
       "<div>\n",
       "<style scoped>\n",
       "    .dataframe tbody tr th:only-of-type {\n",
       "        vertical-align: middle;\n",
       "    }\n",
       "\n",
       "    .dataframe tbody tr th {\n",
       "        vertical-align: top;\n",
       "    }\n",
       "\n",
       "    .dataframe thead th {\n",
       "        text-align: right;\n",
       "    }\n",
       "</style>\n",
       "<table border=\"1\" class=\"dataframe\">\n",
       "  <thead>\n",
       "    <tr style=\"text-align: right;\">\n",
       "      <th></th>\n",
       "      <th>count</th>\n",
       "      <th>mean</th>\n",
       "      <th>std</th>\n",
       "      <th>min</th>\n",
       "      <th>25%</th>\n",
       "      <th>50%</th>\n",
       "      <th>75%</th>\n",
       "      <th>max</th>\n",
       "    </tr>\n",
       "    <tr>\n",
       "      <th>Sex</th>\n",
       "      <th></th>\n",
       "      <th></th>\n",
       "      <th></th>\n",
       "      <th></th>\n",
       "      <th></th>\n",
       "      <th></th>\n",
       "      <th></th>\n",
       "      <th></th>\n",
       "    </tr>\n",
       "  </thead>\n",
       "  <tbody>\n",
       "    <tr>\n",
       "      <th>F</th>\n",
       "      <td>74098.0</td>\n",
       "      <td>23.732881</td>\n",
       "      <td>5.795252</td>\n",
       "      <td>11.0</td>\n",
       "      <td>20.0</td>\n",
       "      <td>23.0</td>\n",
       "      <td>27.0</td>\n",
       "      <td>74.0</td>\n",
       "    </tr>\n",
       "    <tr>\n",
       "      <th>M</th>\n",
       "      <td>187544.0</td>\n",
       "      <td>26.277562</td>\n",
       "      <td>6.474972</td>\n",
       "      <td>10.0</td>\n",
       "      <td>22.0</td>\n",
       "      <td>25.0</td>\n",
       "      <td>29.0</td>\n",
       "      <td>97.0</td>\n",
       "    </tr>\n",
       "  </tbody>\n",
       "</table>\n",
       "</div>"
      ],
      "text/plain": [
       "        count       mean       std   min   25%   50%   75%   max\n",
       "Sex                                                             \n",
       "F     74098.0  23.732881  5.795252  11.0  20.0  23.0  27.0  74.0\n",
       "M    187544.0  26.277562  6.474972  10.0  22.0  25.0  29.0  97.0"
      ]
     },
     "execution_count": 4,
     "metadata": {},
     "output_type": "execute_result"
    }
   ],
   "source": [
    "age_stats_by_sex.describe()"
   ]
  },
  {
   "cell_type": "markdown",
   "metadata": {
    "collapsed": false
   },
   "source": [
    "### Medals by age group"
   ]
  },
  {
   "cell_type": "code",
   "execution_count": 5,
   "metadata": {
    "ExecuteTime": {
     "end_time": "2023-11-20T09:23:16.172045900Z",
     "start_time": "2023-11-20T09:23:16.109943800Z"
    },
    "collapsed": false
   },
   "outputs": [],
   "source": [
    "# Defining age bins\n",
    "# Creating new column \"Age Group\" based on the age bins\n",
    "# Group by \"Sex\", \"Age Group\" and \"Medals\" and count the medal occurrences\n",
    "# Sort the columns, gold first, no medal last.\n",
    "age_bins = [10, 20, 30, 40, 50, 60, 70, 80, 90]\n",
    "athlete_age_medal[\"Age Group\"] = pd.cut(athlete_age_medal[\"Age\"], bins=age_bins, labels=[f'{i}-{i+9}' for i in age_bins[:-1]])\n",
    "age_group_medals = athlete_age_medal.groupby([\"Sex\", \"Age Group\", \"Medal\"], observed=False).size().unstack(fill_value=0)\n",
    "age_group_medals = age_group_medals[[\"Gold\", \"Silver\", \"Bronze\"]]"
   ]
  },
  {
   "cell_type": "code",
   "execution_count": 6,
   "metadata": {
    "ExecuteTime": {
     "end_time": "2023-11-20T09:23:17.643751300Z",
     "start_time": "2023-11-20T09:23:17.607459400Z"
    },
    "collapsed": false
   },
   "outputs": [
    {
     "data": {
      "text/html": [
       "<div>\n",
       "<style scoped>\n",
       "    .dataframe tbody tr th:only-of-type {\n",
       "        vertical-align: middle;\n",
       "    }\n",
       "\n",
       "    .dataframe tbody tr th {\n",
       "        vertical-align: top;\n",
       "    }\n",
       "\n",
       "    .dataframe thead th {\n",
       "        text-align: right;\n",
       "    }\n",
       "</style>\n",
       "<table border=\"1\" class=\"dataframe\">\n",
       "  <thead>\n",
       "    <tr style=\"text-align: right;\">\n",
       "      <th></th>\n",
       "      <th>Medal</th>\n",
       "      <th>Gold</th>\n",
       "      <th>Silver</th>\n",
       "      <th>Bronze</th>\n",
       "    </tr>\n",
       "    <tr>\n",
       "      <th>Sex</th>\n",
       "      <th>Age Group</th>\n",
       "      <th></th>\n",
       "      <th></th>\n",
       "      <th></th>\n",
       "    </tr>\n",
       "  </thead>\n",
       "  <tbody>\n",
       "    <tr>\n",
       "      <th rowspan=\"8\" valign=\"top\">F</th>\n",
       "      <th>10-19</th>\n",
       "      <td>852</td>\n",
       "      <td>837</td>\n",
       "      <td>787</td>\n",
       "    </tr>\n",
       "    <tr>\n",
       "      <th>20-29</th>\n",
       "      <td>2469</td>\n",
       "      <td>2458</td>\n",
       "      <td>2531</td>\n",
       "    </tr>\n",
       "    <tr>\n",
       "      <th>30-39</th>\n",
       "      <td>398</td>\n",
       "      <td>401</td>\n",
       "      <td>407</td>\n",
       "    </tr>\n",
       "    <tr>\n",
       "      <th>40-49</th>\n",
       "      <td>22</td>\n",
       "      <td>28</td>\n",
       "      <td>32</td>\n",
       "    </tr>\n",
       "    <tr>\n",
       "      <th>50-59</th>\n",
       "      <td>2</td>\n",
       "      <td>5</td>\n",
       "      <td>3</td>\n",
       "    </tr>\n",
       "    <tr>\n",
       "      <th>60-69</th>\n",
       "      <td>1</td>\n",
       "      <td>0</td>\n",
       "      <td>3</td>\n",
       "    </tr>\n",
       "    <tr>\n",
       "      <th>70-79</th>\n",
       "      <td>0</td>\n",
       "      <td>0</td>\n",
       "      <td>0</td>\n",
       "    </tr>\n",
       "    <tr>\n",
       "      <th>80-89</th>\n",
       "      <td>0</td>\n",
       "      <td>0</td>\n",
       "      <td>0</td>\n",
       "    </tr>\n",
       "    <tr>\n",
       "      <th rowspan=\"8\" valign=\"top\">M</th>\n",
       "      <th>10-19</th>\n",
       "      <td>985</td>\n",
       "      <td>936</td>\n",
       "      <td>1014</td>\n",
       "    </tr>\n",
       "    <tr>\n",
       "      <th>20-29</th>\n",
       "      <td>6696</td>\n",
       "      <td>6405</td>\n",
       "      <td>6581</td>\n",
       "    </tr>\n",
       "    <tr>\n",
       "      <th>30-39</th>\n",
       "      <td>1488</td>\n",
       "      <td>1432</td>\n",
       "      <td>1348</td>\n",
       "    </tr>\n",
       "    <tr>\n",
       "      <th>40-49</th>\n",
       "      <td>249</td>\n",
       "      <td>250</td>\n",
       "      <td>241</td>\n",
       "    </tr>\n",
       "    <tr>\n",
       "      <th>50-59</th>\n",
       "      <td>57</td>\n",
       "      <td>55</td>\n",
       "      <td>51</td>\n",
       "    </tr>\n",
       "    <tr>\n",
       "      <th>60-69</th>\n",
       "      <td>5</td>\n",
       "      <td>11</td>\n",
       "      <td>5</td>\n",
       "    </tr>\n",
       "    <tr>\n",
       "      <th>70-79</th>\n",
       "      <td>0</td>\n",
       "      <td>3</td>\n",
       "      <td>2</td>\n",
       "    </tr>\n",
       "    <tr>\n",
       "      <th>80-89</th>\n",
       "      <td>0</td>\n",
       "      <td>0</td>\n",
       "      <td>0</td>\n",
       "    </tr>\n",
       "  </tbody>\n",
       "</table>\n",
       "</div>"
      ],
      "text/plain": [
       "Medal          Gold  Silver  Bronze\n",
       "Sex Age Group                      \n",
       "F   10-19       852     837     787\n",
       "    20-29      2469    2458    2531\n",
       "    30-39       398     401     407\n",
       "    40-49        22      28      32\n",
       "    50-59         2       5       3\n",
       "    60-69         1       0       3\n",
       "    70-79         0       0       0\n",
       "    80-89         0       0       0\n",
       "M   10-19       985     936    1014\n",
       "    20-29      6696    6405    6581\n",
       "    30-39      1488    1432    1348\n",
       "    40-49       249     250     241\n",
       "    50-59        57      55      51\n",
       "    60-69         5      11       5\n",
       "    70-79         0       3       2\n",
       "    80-89         0       0       0"
      ]
     },
     "execution_count": 6,
     "metadata": {},
     "output_type": "execute_result"
    }
   ],
   "source": [
    "age_group_medals"
   ]
  },
  {
   "cell_type": "code",
   "execution_count": null,
   "metadata": {
    "ExecuteTime": {
     "end_time": "2023-11-20T09:28:18.047440600Z",
     "start_time": "2023-11-20T09:28:17.989654100Z"
    },
    "collapsed": false
   },
   "outputs": [],
   "source": [
    "# Melt the DataFrame for easier plotting\n",
    "# Create bar chart using Plotly Express\n",
    "age_group_medals_melted = pd.melt(age_group_medals.reset_index(), id_vars=[\"Sex\", \"Age Group\"], var_name=\"Medal\", value_name=\"Count\")\n",
    "\n",
    "age_group_medals_diagram = px.bar(\n",
    "    age_group_medals_melted,\n",
    "    x=\"Age Group\",\n",
    "    y=\"Count\",\n",
    "    color=\"Medal\",\n",
    "    color_discrete_map={\"Gold\": \"gold\", \"Silver\": \"silver\", \"Bronze\": \"brown\"},\n",
    "    barmode=\"group\",\n",
    "    facet_col=\"Sex\",\n",
    "    category_orders={\"Medal\": [\"Gold\", \"Silver\", \"Bronze\", \"No medal\"]},\n",
    "    labels={\"Count\": \"Medal Count\", \"Age Group\": \"Age Group\"},\n",
    "    title=\"Medal Counts per Age Group and Sex\"\n",
    ")\n",
    "\n",
    "age_group_medals_diagram.write_html(\"../Projekt_OS_Australien/Visualisering/Age_group_medals_by_sex.html\")"
   ]
  },
  {
   "cell_type": "markdown",
   "metadata": {},
   "source": [
    "### Anonymization function for names in dataset"
   ]
  },
  {
   "cell_type": "code",
   "execution_count": 7,
   "metadata": {
    "ExecuteTime": {
     "end_time": "2023-11-20T08:52:30.899847300Z",
     "start_time": "2023-11-20T08:52:30.643395200Z"
    }
   },
   "outputs": [],
   "source": [
    "#Anonymize a name using SHA-256 hashing algorithm\n",
    "def anonymize_names(name):\n",
    "    name_bytes = name.encode() # Transforming the string to bytes with .encode(), since the hash function demands it \n",
    "    hash_object = hashlib.sha256() # Creating an SHA-256 hashobject with hashlib.sha256()\n",
    "    hash_object.update(name_bytes) # Updating the hashobject with the koded name-string (name_bytes)\n",
    "    hashed_name = hash_object.hexdigest() # Making the hashe object into hexdecimal format\n",
    "    return hashed_name\n",
    "\n",
    "# Using the function to anonymize the name column\n",
    "data_athletes['Name'] = data_athletes['Name'].apply(anonymize_names)"
   ]
  },
  {
   "cell_type": "markdown",
   "metadata": {
    "collapsed": false
   },
   "source": [
    "### Number of Medals per Sport for Australia"
   ]
  },
  {
   "cell_type": "code",
   "execution_count": 10,
   "metadata": {},
   "outputs": [],
   "source": [
    "# Filter for Australian participants, included Australasia since Australia was a part of that subregion.\n",
    "australian_athletes = data_athletes[data_athletes['NOC'].isin(['AUS', 'ANZ'])]\n",
    "\n",
    "# Filter for rows where a medal has been won\n",
    "australian_medals = australian_athletes.dropna(subset=['Medal'])\n",
    "\n",
    "# Group by sport and count the number of medals\n",
    "medal_counts = australian_medals['Sport'].value_counts()\n",
    "\n",
    "# Create a bar chart to visualize the results\n",
    "medals_per_sport_australia = px.bar(medal_counts, \n",
    "             x=medal_counts.index, \n",
    "             y=medal_counts.values, \n",
    "             title='Number of Medals per Sport for Australia',\n",
    "             labels={'x': 'Sport', 'y': 'Number of Medals'})\n",
    "\n",
    "# Rotating the values under the x-axis\n",
    "medals_per_sport_australia.update_layout(xaxis_tickangle=-90)\n",
    "\n",
    "medals_per_sport_australia.write_html(\"../Projekt_OS_Australien/Visualisering/Medals_per_sport_australia.html\")"
   ]
  },
  {
   "cell_type": "markdown",
   "source": [
    "### Amount of medals per olympic games for Australia"
   ],
   "metadata": {
    "collapsed": false
   }
  },
  {
   "cell_type": "code",
   "execution_count": null,
   "outputs": [],
   "source": [
    "# Create dataframe grouping australian medals per season, year and medal amounts\n",
    "# Sort the columns, gold first, bronze last\n",
    "# Create stacked bar chart to show results\n",
    "\n",
    "australian_medals_per_year = australian_medals.groupby([\"Season\", \"Year\", \"Medal\"]).size().unstack(fill_value=0)\n",
    "australian_medals_per_year = australian_medals_per_year[[\"Gold\", \"Silver\", \"Bronze\"]].reset_index()\n",
    "\n",
    "\n",
    "australian_medals_per_year_diagram = px.bar(\n",
    "    australian_medals_per_year,\n",
    "    x=\"Year\",\n",
    "    y=[\"Gold\", \"Silver\", \"Bronze\"],\n",
    "    color_discrete_map={\"Gold\": \"gold\", \"Silver\": \"silver\", \"Bronze\": \"brown\"},\n",
    "    barmode=\"stack\",\n",
    "    facet_col=\"Season\",\n",
    "    labels={\"value\": \"Medal Count\", \"Year\": \"Year\"},\n",
    "    title=\"Amount of medals per olympic games for Australia\",\n",
    ")\n",
    "\n",
    "australian_medals_per_year_diagram.write_html(\"../Projekt_OS_Australien/Visualisering/Medals_per_year_australia.html\")"
   ],
   "metadata": {
    "collapsed": false
   }
  },
  {
   "cell_type": "markdown",
   "metadata": {},
   "source": [
    "### Histogram over the ages of Australian athletes"
   ]
  },
  {
   "cell_type": "code",
   "execution_count": 32,
   "metadata": {},
   "outputs": [],
   "source": [
    "# Creating the diagram\n",
    "Histogram_Australia = px.histogram(\n",
    "    australian_athletes,\n",
    "    x=\"Age\",\n",
    "    nbins=25,\n",
    "    title=\"Age of Australian olympic athletes\"\n",
    ")\n",
    "\n",
    "# Creating a gap between each bar so it's easier to look at\n",
    "Histogram_Australia.update_layout(\n",
    "    bargap=0.2\n",
    ")\n",
    "\n",
    "Histogram_Australia.write_html(\"../Projekt_OS_Australien/Visualisering/Histogram_Australia_Ages.html\")"
   ]
  },
  {
   "cell_type": "markdown",
   "metadata": {},
   "source": [
    "## Swimming "
   ]
  },
  {
   "cell_type": "markdown",
   "metadata": {},
   "source": [
    "### Medals per country competing in Swimming"
   ]
  },
  {
   "cell_type": "code",
   "execution_count": 66,
   "metadata": {},
   "outputs": [],
   "source": [
    "filter_sport = \"Swimming\"\n",
    "\n",
    "# Filteres the data so only swimmers are left\n",
    "filitered_swimming = data_athletes[data_athletes[\"Sport\"] == filter_sport]\n",
    "\n",
    "# Creates a series by grouping NOC and medal column together.\n",
    "# .size() counts the values in each group\n",
    "# unstack(fill_value=0) reshapes it into a dataframe again, while also changing the NaN values to 0\n",
    "# reset_index() resets the index again\n",
    "medals_swimming = filitered_swimming.groupby([\"NOC\", \"Medal\"]).size().unstack(fill_value=0).reset_index()\n",
    "\n",
    "# Filtering out the countries who has participated but has not won any medals\n",
    "medals_swimming = medals_swimming[medals_swimming[[\"Gold\", \"Silver\", \"Bronze\"]].sum(axis=1) > 0]\n",
    "\n",
    "# Sorting the countries based on total medals for easier readability\n",
    "medals_swimming[\"Total Medals\"] = medals_swimming[[\"Gold\", \"Silver\", \"Bronze\"]].sum(axis=1)\n",
    "medals_swimming = medals_swimming.sort_values(by=\"Total Medals\", ascending=False)\n",
    "\n",
    "# Taking the top 20 countries for easier readability\n",
    "medals_swimming = medals_swimming.head(20)\n",
    "\n",
    "medals_country_swimming = px.bar(\n",
    "    medals_swimming,\n",
    "    x=\"NOC\",\n",
    "    y=[\"Gold\", \"Silver\", \"Bronze\"],\n",
    "    labels={\"NOC\": \"Country\", \"value\" : \"Medals\"},\n",
    "    barmode=\"group\",\n",
    "    title=\"Amount of Swimming medals per country\"\n",
    ")\n",
    "\n",
    "medals_country_swimming.write_html(\"../Projekt_OS_Australien/Visualisering/Medals_country_swimming.html\")\n"
   ]
  },
  {
   "cell_type": "markdown",
   "metadata": {},
   "source": [
    "### Age groups for swimming"
   ]
  },
  {
   "cell_type": "code",
   "execution_count": 73,
   "metadata": {},
   "outputs": [],
   "source": [
    "age_distrobution_swimming = px.histogram(\n",
    "    filitered_swimming,\n",
    "    x=\"Age\",\n",
    "    nbins=10,\n",
    "    title=\"Age distrubution of swimmers\"\n",
    ")\n",
    "\n",
    "age_distrobution_swimming.update_layout(\n",
    "    bargap=0.1\n",
    ")\n",
    "\n",
    "age_distrobution_swimming.write_html(\"../Projekt_OS_Australien/Visualisering/Age_distrubution_swimming.html\")"
   ]
  }
 ],
 "metadata": {
  "kernelspec": {
   "display_name": "Python 3",
   "language": "python",
   "name": "python3"
  },
  "language_info": {
   "codemirror_mode": {
    "name": "ipython",
    "version": 3
   },
   "file_extension": ".py",
   "mimetype": "text/x-python",
   "name": "python",
   "nbconvert_exporter": "python",
   "pygments_lexer": "ipython3",
   "version": "3.11.5"
  }
 },
 "nbformat": 4,
 "nbformat_minor": 2
}
