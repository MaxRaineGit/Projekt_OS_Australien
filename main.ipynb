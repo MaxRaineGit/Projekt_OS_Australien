{
 "cells": [
  {
   "cell_type": "code",
   "execution_count": 2,
   "metadata": {
    "ExecuteTime": {
     "end_time": "2023-11-20T08:26:29.538602Z",
     "start_time": "2023-11-20T08:26:27.938593300Z"
    }
   },
   "outputs": [],
   "source": [
    "import pandas as pd\n",
    "import numpy as np\n",
    "import plotly_express as px\n",
    "import hashlib\n",
    "\n",
    "# Load datasets\n",
    "data_athletes = pd.read_csv('Data/athlete_events.csv')\n",
    "data_noc = pd.read_csv('Data/noc_regions.csv')"
   ]
  },
  {
   "cell_type": "markdown",
   "metadata": {},
   "source": [
    "### Which countries are included in the dataset?"
   ]
  },
  {
   "cell_type": "code",
   "execution_count": 3,
   "metadata": {},
   "outputs": [
    {
     "name": "stdout",
     "output_type": "stream",
     "text": [
      "Afghanistan\n",
      "Curacao\n",
      "Albania\n",
      "Algeria\n",
      "Andorra\n",
      "Angola\n",
      "Antigua\n",
      "Australia\n",
      "Argentina\n",
      "Armenia\n",
      "Aruba\n",
      "American Samoa\n",
      "Austria\n",
      "Azerbaijan\n",
      "Bahamas\n",
      "Bangladesh\n",
      "Barbados\n",
      "Burundi\n",
      "Belgium\n",
      "Benin\n",
      "Bermuda\n",
      "Bhutan\n",
      "Bosnia and Herzegovina\n",
      "Belize\n",
      "Belarus\n",
      "Czech Republic\n",
      "Boliva\n",
      "Botswana\n",
      "Brazil\n",
      "Bahrain\n",
      "Brunei\n",
      "Bulgaria\n",
      "Burkina Faso\n",
      "Central African Republic\n",
      "Cambodia\n",
      "Canada\n",
      "Cayman Islands\n",
      "Republic of Congo\n",
      "Chad\n",
      "Chile\n",
      "China\n",
      "Ivory Coast\n",
      "Cameroon\n",
      "Democratic Republic of the Congo\n",
      "Cook Islands\n",
      "Colombia\n",
      "Comoros\n",
      "Cape Verde\n",
      "Costa Rica\n",
      "Croatia\n",
      "Greece\n",
      "Cuba\n",
      "Cyprus\n",
      "Denmark\n",
      "Djibouti\n",
      "Dominica\n",
      "Dominican Republic\n",
      "Ecuador\n",
      "Egypt\n",
      "Eritrea\n",
      "El Salvador\n",
      "Spain\n",
      "Estonia\n",
      "Ethiopia\n",
      "Russia\n",
      "Fiji\n",
      "Finland\n",
      "France\n",
      "Germany\n",
      "Micronesia\n",
      "Gabon\n",
      "Gambia\n",
      "UK\n",
      "Guinea-Bissau\n",
      "Georgia\n",
      "Equatorial Guinea\n",
      "Ghana\n",
      "Grenada\n",
      "Guatemala\n",
      "Guinea\n",
      "Guam\n",
      "Guyana\n",
      "Haiti\n",
      "Honduras\n",
      "Hungary\n",
      "Indonesia\n",
      "India\n",
      "Iran\n",
      "Ireland\n",
      "Iraq\n",
      "Iceland\n",
      "Israel\n",
      "Virgin Islands, US\n",
      "Italy\n",
      "Virgin Islands, British\n",
      "Jamaica\n",
      "Jordan\n",
      "Japan\n",
      "Kazakhstan\n",
      "Kenya\n",
      "Kyrgyzstan\n",
      "Kiribati\n",
      "South Korea\n",
      "Kosovo\n",
      "Saudi Arabia\n",
      "Kuwait\n",
      "Laos\n",
      "Latvia\n",
      "Libya\n",
      "Liberia\n",
      "Saint Lucia\n",
      "Lesotho\n",
      "Lebanon\n",
      "Liechtenstein\n",
      "Lithuania\n",
      "Luxembourg\n",
      "Madagascar\n",
      "Malaysia\n",
      "Morocco\n",
      "Malawi\n",
      "Moldova\n",
      "Maldives\n",
      "Mexico\n",
      "Mongolia\n",
      "Marshall Islands\n",
      "Macedonia\n",
      "Mali\n",
      "Malta\n",
      "Montenegro\n",
      "Monaco\n",
      "Mozambique\n",
      "Mauritius\n",
      "Mauritania\n",
      "Myanmar\n",
      "Namibia\n",
      "Nicaragua\n",
      "Netherlands\n",
      "Nepal\n",
      "Nigeria\n",
      "Niger\n",
      "Norway\n",
      "Nauru\n",
      "New Zealand\n",
      "Oman\n",
      "Pakistan\n",
      "Panama\n",
      "Paraguay\n",
      "Peru\n",
      "Philippines\n",
      "Palestine\n",
      "Palau\n",
      "Papua New Guinea\n",
      "Poland\n",
      "Portugal\n",
      "North Korea\n",
      "Puerto Rico\n",
      "Qatar\n",
      "Zimbabwe\n",
      "nan\n",
      "Romania\n",
      "South Africa\n",
      "Rwanda\n",
      "Samoa\n",
      "Serbia\n",
      "Senegal\n",
      "Seychelles\n",
      "Singapore\n",
      "Saint Kitts\n",
      "Sierra Leone\n",
      "Slovenia\n",
      "San Marino\n",
      "Solomon Islands\n",
      "Somalia\n",
      "Sri Lanka\n",
      "South Sudan\n",
      "Sao Tome and Principe\n",
      "Sudan\n",
      "Switzerland\n",
      "Suriname\n",
      "Slovakia\n",
      "Sweden\n",
      "Swaziland\n",
      "Syria\n",
      "Tanzania\n",
      "Tonga\n",
      "Thailand\n",
      "Tajikistan\n",
      "Turkmenistan\n",
      "Timor-Leste\n",
      "Togo\n",
      "Taiwan\n",
      "Trinidad\n",
      "Tunisia\n",
      "Turkey\n",
      "United Arab Emirates\n",
      "Uganda\n",
      "Ukraine\n",
      "Uruguay\n",
      "USA\n",
      "Uzbekistan\n",
      "Vanuatu\n",
      "Venezuela\n",
      "Vietnam\n",
      "Saint Vincent\n",
      "Yemen\n",
      "Zambia\n",
      "Tuvalu\n"
     ]
    }
   ],
   "source": [
    "# Extract unique region names\n",
    "unique_regions = data_noc['region'].unique()\n",
    "exclusions_region = ['Individual Olympic Athletes', 'NA'] # Exclusion list for regions\n",
    "\n",
    "# TUV was described as 'NA' in the region column but had a name in the notes column\n",
    "if 'Tuvalu' not in unique_regions:\n",
    "    # Manually add 'Tuvalu' to the list of unique regions\n",
    "    unique_regions = list(unique_regions) + ['Tuvalu']\n",
    "\n",
    "# Print the list of unique region names\n",
    "for region in unique_regions:\n",
    "    if region not in exclusions_region:\n",
    "        print(region)"
   ]
  },
  {
   "cell_type": "markdown",
   "metadata": {},
   "source": [
    "### How many countries are included in the dataset?"
   ]
  },
  {
   "cell_type": "code",
   "execution_count": 4,
   "metadata": {},
   "outputs": [
    {
     "name": "stdout",
     "output_type": "stream",
     "text": [
      "Total number of unique regions: 207\n"
     ]
    }
   ],
   "source": [
    "# Filter out excluded regions and count\n",
    "filtered_regions = [\n",
    "    region for region in unique_regions\n",
    "        if region not in exclusions_region]\n",
    "\n",
    "number_of_unique_regions = len(filtered_regions)\n",
    "\n",
    "print(f\"Total number of unique regions: {number_of_unique_regions}\")"
   ]
  },
  {
   "cell_type": "markdown",
   "metadata": {},
   "source": [
    "### Which sports are in the event?"
   ]
  },
  {
   "cell_type": "code",
   "execution_count": null,
   "metadata": {},
   "outputs": [],
   "source": [
    "sports_list = data_athletes['Sport'].unique()\n",
    "\n",
    "print(\"Types of sports:\")\n",
    "for sport in sports_list:\n",
    "    print(sport)"
   ]
  },
  {
   "cell_type": "markdown",
   "metadata": {},
   "source": [
    "### What types of medals are won?"
   ]
  },
  {
   "cell_type": "code",
   "execution_count": null,
   "metadata": {},
   "outputs": [],
   "source": [
    "medal_types = data_athletes['Medal'].unique()\n",
    "\n",
    "# Removes the rows where no medals has been won\n",
    "medal_types_filtered = np.delete(medal_types, 0)\n",
    "\n",
    "print(\"Types of medals:\")\n",
    "for medal in medal_types_filtered:\n",
    "    print(medal)"
   ]
  },
  {
   "cell_type": "markdown",
   "metadata": {},
   "source": [
    "### Sex distribiution chart"
   ]
  },
  {
   "cell_type": "code",
   "execution_count": null,
   "metadata": {},
   "outputs": [],
   "source": [
    "# Remove duplicate entries based on 'ID' to ensure each athlete is counted only once.\n",
    "data_unique_athletes = data_athletes.drop_duplicates(subset=['ID'])\n",
    "\n",
    "# Count the number of male and female participants\n",
    "sex_distribution = data_unique_athletes['Sex'].value_counts()\n",
    "\n",
    "# Creating a pie chart\n",
    "sex_distribution_piechart = px.pie(sex_distribution, \n",
    "            # The lambda function in the names argument is used to map \"F\" to \"Female\" and \"M\" to \"Male\".\n",
    "             names=sex_distribution.index.map(lambda x: 'Female' if x == 'F' else 'Male'),\n",
    "             values=sex_distribution.values,\n",
    "             title='Sex distribution of all athletes',\n",
    "             labels={'names' : 'Sex', \"values\" : 'Amount'})\n",
    "\n",
    "sex_distribution_piechart.write_html((\"../Projekt_OS_Australien/Visualisering/Sex_distribution_piechart.html\"))"
   ]
  },
  {
   "cell_type": "markdown",
   "metadata": {},
   "source": [
    "### Top 10 countries based on total medals won"
   ]
  },
  {
   "cell_type": "code",
   "execution_count": null,
   "metadata": {},
   "outputs": [],
   "source": [
    "# Creates a new dataframe grouping that only shows the columns \"Team\" and \"Total Medals\"\n",
    "# Value_counts Counts the values for each row\n",
    "# Unstack transforms the groupby into a new dataframe\n",
    "# fillna changes the missing data to having a value of 0 so it wont effect the counting\n",
    "# Sum counts everthing in the first axis which is \"Total Medals\" after we used reset_index to both reset the index and change the name of the second column.\n",
    "country_medals = data_athletes.groupby(\"NOC\")[\"Medal\"].value_counts().unstack().fillna(0).sum(axis=1).reset_index(name=\"Total Medals\")\n",
    "\n",
    "top_ten_countries = country_medals.sort_values(by=\"Total Medals\", ascending=False).head(10)\n",
    "\n",
    "top_ten_countries_diagram = px.bar(\n",
    "    top_ten_countries,\n",
    "    x=\"NOC\", y=\"Total Medals\",\n",
    "    title=\"Top 10 countries based on total medals won:\",\n",
    "    color=\"NOC\",\n",
    "    labels={\"NOC\" : \"Countries\", \"Total Medals\" : \"Medals\"}\n",
    ")\n",
    "\n",
    "top_ten_countries_diagram.write_html(\"../Projekt_OS_Australien/Visualisering/Top_ten_countries_medals.html\")"
   ]
  },
  {
   "cell_type": "markdown",
   "source": [
    "### Age Statistics"
   ],
   "metadata": {
    "collapsed": false
   }
  },
  {
   "cell_type": "code",
   "execution_count": 32,
   "outputs": [],
   "source": [
    "# Create dataframe grouping with athletes age, sex and medal\n",
    "# Dropping rows without age data and filling NaN in Medals with \"No medal\"\n",
    "# Showing age statistics overall and by sex\n",
    "athlete_age_medal = data_athletes[[\"Sex\", \"Age\", \"Medal\"]].dropna(subset=[\"Age\"]).fillna({\"Medal\": \"No medal\"})\n",
    "\n",
    "age_stats = athlete_age_medal[\"Age\"]\n",
    "age_stats_by_sex = athlete_age_medal.groupby(\"Sex\")[\"Age\"]"
   ],
   "metadata": {
    "collapsed": false,
    "ExecuteTime": {
     "end_time": "2023-11-20T08:52:27.112742200Z",
     "start_time": "2023-11-20T08:52:27.058804300Z"
    }
   }
  },
  {
   "cell_type": "code",
   "execution_count": 33,
   "outputs": [
    {
     "data": {
      "text/plain": "count    261642.000000\nmean         25.556898\nstd           6.393561\nmin          10.000000\n25%          21.000000\n50%          24.000000\n75%          28.000000\nmax          97.000000\nName: Age, dtype: float64"
     },
     "execution_count": 33,
     "metadata": {},
     "output_type": "execute_result"
    }
   ],
   "source": [
    "age_stats.describe()"
   ],
   "metadata": {
    "collapsed": false,
    "ExecuteTime": {
     "end_time": "2023-11-20T08:52:27.919724800Z",
     "start_time": "2023-11-20T08:52:27.877697800Z"
    }
   }
  },
  {
   "cell_type": "code",
   "execution_count": 34,
   "outputs": [
    {
     "data": {
      "text/plain": "        count       mean       std   min   25%   50%   75%   max\nSex                                                             \nF     74098.0  23.732881  5.795252  11.0  20.0  23.0  27.0  74.0\nM    187544.0  26.277562  6.474972  10.0  22.0  25.0  29.0  97.0",
      "text/html": "<div>\n<style scoped>\n    .dataframe tbody tr th:only-of-type {\n        vertical-align: middle;\n    }\n\n    .dataframe tbody tr th {\n        vertical-align: top;\n    }\n\n    .dataframe thead th {\n        text-align: right;\n    }\n</style>\n<table border=\"1\" class=\"dataframe\">\n  <thead>\n    <tr style=\"text-align: right;\">\n      <th></th>\n      <th>count</th>\n      <th>mean</th>\n      <th>std</th>\n      <th>min</th>\n      <th>25%</th>\n      <th>50%</th>\n      <th>75%</th>\n      <th>max</th>\n    </tr>\n    <tr>\n      <th>Sex</th>\n      <th></th>\n      <th></th>\n      <th></th>\n      <th></th>\n      <th></th>\n      <th></th>\n      <th></th>\n      <th></th>\n    </tr>\n  </thead>\n  <tbody>\n    <tr>\n      <th>F</th>\n      <td>74098.0</td>\n      <td>23.732881</td>\n      <td>5.795252</td>\n      <td>11.0</td>\n      <td>20.0</td>\n      <td>23.0</td>\n      <td>27.0</td>\n      <td>74.0</td>\n    </tr>\n    <tr>\n      <th>M</th>\n      <td>187544.0</td>\n      <td>26.277562</td>\n      <td>6.474972</td>\n      <td>10.0</td>\n      <td>22.0</td>\n      <td>25.0</td>\n      <td>29.0</td>\n      <td>97.0</td>\n    </tr>\n  </tbody>\n</table>\n</div>"
     },
     "execution_count": 34,
     "metadata": {},
     "output_type": "execute_result"
    }
   ],
   "source": [
    "age_stats_by_sex.describe()"
   ],
   "metadata": {
    "collapsed": false,
    "ExecuteTime": {
     "end_time": "2023-11-20T08:52:28.971366100Z",
     "start_time": "2023-11-20T08:52:28.937172300Z"
    }
   }
  },
  {
   "cell_type": "markdown",
   "source": [
    "### Medals by age group"
   ],
   "metadata": {
    "collapsed": false
   }
  },
  {
   "cell_type": "code",
   "execution_count": 51,
   "outputs": [],
   "source": [
    "# Defining age bins\n",
    "# Creating new column \"Age Group\" based on the age bins\n",
    "# Group by \"Sex\", \"Age Group\" and \"Medals\" and count the medal occurrences\n",
    "# Sort the columns, gold first, no medal last.\n",
    "age_bins = [10, 20, 30, 40, 50, 60, 70, 80, 90]\n",
    "athlete_age_medal[\"Age Group\"] = pd.cut(athlete_age_medal[\"Age\"], bins=age_bins, labels=[f'{i}-{i+9}' for i in age_bins[:-1]])\n",
    "age_group_medals = athlete_age_medal.groupby([\"Sex\", \"Age Group\", \"Medal\"], observed=False).size().unstack(fill_value=0)\n",
    "age_group_medals = age_group_medals[[\"Gold\", \"Silver\", \"Bronze\"]]"
   ],
   "metadata": {
    "collapsed": false,
    "ExecuteTime": {
     "end_time": "2023-11-20T09:23:16.172045900Z",
     "start_time": "2023-11-20T09:23:16.109943800Z"
    }
   }
  },
  {
   "cell_type": "code",
   "execution_count": 52,
   "outputs": [
    {
     "data": {
      "text/plain": "Medal          Gold  Silver  Bronze\nSex Age Group                      \nF   10-19       852     837     787\n    20-29      2469    2458    2531\n    30-39       398     401     407\n    40-49        22      28      32\n    50-59         2       5       3\n    60-69         1       0       3\n    70-79         0       0       0\n    80-89         0       0       0\nM   10-19       985     936    1014\n    20-29      6696    6405    6581\n    30-39      1488    1432    1348\n    40-49       249     250     241\n    50-59        57      55      51\n    60-69         5      11       5\n    70-79         0       3       2\n    80-89         0       0       0",
      "text/html": "<div>\n<style scoped>\n    .dataframe tbody tr th:only-of-type {\n        vertical-align: middle;\n    }\n\n    .dataframe tbody tr th {\n        vertical-align: top;\n    }\n\n    .dataframe thead th {\n        text-align: right;\n    }\n</style>\n<table border=\"1\" class=\"dataframe\">\n  <thead>\n    <tr style=\"text-align: right;\">\n      <th></th>\n      <th>Medal</th>\n      <th>Gold</th>\n      <th>Silver</th>\n      <th>Bronze</th>\n    </tr>\n    <tr>\n      <th>Sex</th>\n      <th>Age Group</th>\n      <th></th>\n      <th></th>\n      <th></th>\n    </tr>\n  </thead>\n  <tbody>\n    <tr>\n      <th rowspan=\"8\" valign=\"top\">F</th>\n      <th>10-19</th>\n      <td>852</td>\n      <td>837</td>\n      <td>787</td>\n    </tr>\n    <tr>\n      <th>20-29</th>\n      <td>2469</td>\n      <td>2458</td>\n      <td>2531</td>\n    </tr>\n    <tr>\n      <th>30-39</th>\n      <td>398</td>\n      <td>401</td>\n      <td>407</td>\n    </tr>\n    <tr>\n      <th>40-49</th>\n      <td>22</td>\n      <td>28</td>\n      <td>32</td>\n    </tr>\n    <tr>\n      <th>50-59</th>\n      <td>2</td>\n      <td>5</td>\n      <td>3</td>\n    </tr>\n    <tr>\n      <th>60-69</th>\n      <td>1</td>\n      <td>0</td>\n      <td>3</td>\n    </tr>\n    <tr>\n      <th>70-79</th>\n      <td>0</td>\n      <td>0</td>\n      <td>0</td>\n    </tr>\n    <tr>\n      <th>80-89</th>\n      <td>0</td>\n      <td>0</td>\n      <td>0</td>\n    </tr>\n    <tr>\n      <th rowspan=\"8\" valign=\"top\">M</th>\n      <th>10-19</th>\n      <td>985</td>\n      <td>936</td>\n      <td>1014</td>\n    </tr>\n    <tr>\n      <th>20-29</th>\n      <td>6696</td>\n      <td>6405</td>\n      <td>6581</td>\n    </tr>\n    <tr>\n      <th>30-39</th>\n      <td>1488</td>\n      <td>1432</td>\n      <td>1348</td>\n    </tr>\n    <tr>\n      <th>40-49</th>\n      <td>249</td>\n      <td>250</td>\n      <td>241</td>\n    </tr>\n    <tr>\n      <th>50-59</th>\n      <td>57</td>\n      <td>55</td>\n      <td>51</td>\n    </tr>\n    <tr>\n      <th>60-69</th>\n      <td>5</td>\n      <td>11</td>\n      <td>5</td>\n    </tr>\n    <tr>\n      <th>70-79</th>\n      <td>0</td>\n      <td>3</td>\n      <td>2</td>\n    </tr>\n    <tr>\n      <th>80-89</th>\n      <td>0</td>\n      <td>0</td>\n      <td>0</td>\n    </tr>\n  </tbody>\n</table>\n</div>"
     },
     "execution_count": 52,
     "metadata": {},
     "output_type": "execute_result"
    }
   ],
   "source": [
    "age_group_medals"
   ],
   "metadata": {
    "collapsed": false,
    "ExecuteTime": {
     "end_time": "2023-11-20T09:23:17.643751300Z",
     "start_time": "2023-11-20T09:23:17.607459400Z"
    }
   }
  },
  {
   "cell_type": "code",
   "execution_count": 57,
   "outputs": [],
   "source": [
    "# Melt the DataFrame for easier plotting\n",
    "# Create bar chart using Plotly Express\n",
    "age_group_medals_melted = pd.melt(age_group_medals.reset_index(), id_vars=[\"Sex\", \"Age Group\"], var_name=\"Medal\", value_name=\"Count\")\n",
    "\n",
    "age_group_medals_diagram = px.bar(\n",
    "    age_group_medals_melted,\n",
    "    x=\"Age Group\",\n",
    "    y=\"Count\",\n",
    "    color=\"Medal\",\n",
    "    color_discrete_map={\"Gold\": \"gold\", \"Silver\": \"silver\", \"Bronze\": \"brown\"},\n",
    "    barmode=\"group\",\n",
    "    facet_col=\"Sex\",\n",
    "    category_orders={\"Medal\": [\"Gold\", \"Silver\", \"Bronze\", \"No medal\"]},\n",
    "    labels={\"Count\": \"Medal Count\", \"Age Group\": \"Age Group\"},\n",
    "    title=\"Medal Counts per Age Group and Sex\"\n",
    ")\n",
    "\n",
    "age_group_medals_diagram.write_html(\"../Projekt_OS_Australien/Visualisering/Age_group_medals_by_sex.html\")"
   ],
   "metadata": {
    "collapsed": false,
    "ExecuteTime": {
     "end_time": "2023-11-20T09:28:18.047440600Z",
     "start_time": "2023-11-20T09:28:17.989654100Z"
    }
   }
  },
  {
   "cell_type": "markdown",
   "metadata": {},
   "source": [
    "### Anonymization function for names in dataset"
   ]
  },
  {
   "cell_type": "code",
   "execution_count": 35,
   "metadata": {
    "ExecuteTime": {
     "end_time": "2023-11-20T08:52:30.899847300Z",
     "start_time": "2023-11-20T08:52:30.643395200Z"
    }
   },
   "outputs": [],
   "source": [
    "#Anonymize a name using SHA-256 hashing algorithm\n",
    "def anonymize_names(name):\n",
    "    name_bytes = name.encode() # Transforming the string to bytes with .encode(), since the hash function demands it \n",
    "    hash_object = hashlib.sha256() # Creating an SHA-256 hashobject with hashlib.sha256()\n",
    "    hash_object.update(name_bytes) # Updating the hashobject with the koded name-string (name_bytes)\n",
    "    hashed_name = hash_object.hexdigest() # Making the hashe object into hexdecimal format\n",
    "    return hashed_name\n",
    "\n",
    "# Using the function to anonymize the name column\n",
    "data_athletes['Name'] = data_athletes['Name'].apply(anonymize_names)"
   ]
  },
  {
   "cell_type": "markdown",
   "source": [],
   "metadata": {
    "collapsed": false
   }
  }
 ],
 "metadata": {
  "kernelspec": {
   "display_name": "Python 3",
   "language": "python",
   "name": "python3"
  },
  "language_info": {
   "codemirror_mode": {
    "name": "ipython",
    "version": 3
   },
   "file_extension": ".py",
   "mimetype": "text/x-python",
   "name": "python",
   "nbconvert_exporter": "python",
   "pygments_lexer": "ipython3",
   "version": "3.11.5"
  }
 },
 "nbformat": 4,
 "nbformat_minor": 2
}
